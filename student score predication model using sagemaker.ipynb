{
 "cells": [
  {
   "cell_type": "code",
   "execution_count": 1,
   "id": "0d0eda1c-5d3d-47f3-b0b0-fc86a725fca0",
   "metadata": {
    "execution": {
     "iopub.execute_input": "2025-08-12T07:35:48.459579Z",
     "iopub.status.busy": "2025-08-12T07:35:48.459249Z",
     "iopub.status.idle": "2025-08-12T07:35:48.935679Z",
     "shell.execute_reply": "2025-08-12T07:35:48.935059Z",
     "shell.execute_reply.started": "2025-08-12T07:35:48.459554Z"
    }
   },
   "outputs": [],
   "source": [
    "import pandas as pd \n",
    "import numpy as np "
   ]
  },
  {
   "cell_type": "code",
   "execution_count": 2,
   "id": "56647936-bb38-44e2-9c52-610824b628cc",
   "metadata": {
    "execution": {
     "iopub.execute_input": "2025-08-12T07:36:53.661122Z",
     "iopub.status.busy": "2025-08-12T07:36:53.660660Z",
     "iopub.status.idle": "2025-08-12T07:36:53.664055Z",
     "shell.execute_reply": "2025-08-12T07:36:53.663472Z",
     "shell.execute_reply.started": "2025-08-12T07:36:53.661099Z"
    }
   },
   "outputs": [],
   "source": [
    "import boto3\n",
    "from sklearn.model_selection import train_test_split\n",
    "import sagemaker\n",
    "from sagemaker import session "
   ]
  },
  {
   "cell_type": "code",
   "execution_count": 3,
   "id": "69f251f4-4f11-4293-9030-ec75e0efa0d6",
   "metadata": {
    "execution": {
     "iopub.execute_input": "2025-08-12T07:37:59.373941Z",
     "iopub.status.busy": "2025-08-12T07:37:59.373134Z",
     "iopub.status.idle": "2025-08-12T07:37:59.377054Z",
     "shell.execute_reply": "2025-08-12T07:37:59.376405Z",
     "shell.execute_reply.started": "2025-08-12T07:37:59.373912Z"
    }
   },
   "outputs": [],
   "source": [
    "import io\n",
    "import sagemaker.amazon.common as smac\n",
    "import os"
   ]
  },
  {
   "cell_type": "code",
   "execution_count": 4,
   "id": "df473ae2-329c-493f-a5ac-2535b62dfbc4",
   "metadata": {
    "execution": {
     "iopub.execute_input": "2025-08-12T07:38:35.462787Z",
     "iopub.status.busy": "2025-08-12T07:38:35.462521Z",
     "iopub.status.idle": "2025-08-12T07:38:35.466184Z",
     "shell.execute_reply": "2025-08-12T07:38:35.465477Z",
     "shell.execute_reply.started": "2025-08-12T07:38:35.462767Z"
    }
   },
   "outputs": [],
   "source": [
    "from sagemaker.amazon.amazon_estimator import image_uris"
   ]
  },
  {
   "cell_type": "code",
   "execution_count": 44,
   "id": "8616de72-1ed3-43e1-a410-4dc4125c8034",
   "metadata": {
    "execution": {
     "iopub.execute_input": "2025-08-12T08:48:11.324934Z",
     "iopub.status.busy": "2025-08-12T08:48:11.324661Z",
     "iopub.status.idle": "2025-08-12T08:48:11.330405Z",
     "shell.execute_reply": "2025-08-12T08:48:11.329781Z",
     "shell.execute_reply.started": "2025-08-12T08:48:11.324914Z"
    }
   },
   "outputs": [],
   "source": [
    "df = pd.read_csv('student_scores.csv')"
   ]
  },
  {
   "cell_type": "code",
   "execution_count": 45,
   "id": "14e1b3c6-47fc-4715-8042-0f92c22f4ee4",
   "metadata": {
    "execution": {
     "iopub.execute_input": "2025-08-12T08:48:12.092687Z",
     "iopub.status.busy": "2025-08-12T08:48:12.092090Z",
     "iopub.status.idle": "2025-08-12T08:48:12.099664Z",
     "shell.execute_reply": "2025-08-12T08:48:12.099059Z",
     "shell.execute_reply.started": "2025-08-12T08:48:12.092660Z"
    }
   },
   "outputs": [
    {
     "data": {
      "text/html": [
       "<div>\n",
       "<style scoped>\n",
       "    .dataframe tbody tr th:only-of-type {\n",
       "        vertical-align: middle;\n",
       "    }\n",
       "\n",
       "    .dataframe tbody tr th {\n",
       "        vertical-align: top;\n",
       "    }\n",
       "\n",
       "    .dataframe thead th {\n",
       "        text-align: right;\n",
       "    }\n",
       "</style>\n",
       "<table border=\"1\" class=\"dataframe\">\n",
       "  <thead>\n",
       "    <tr style=\"text-align: right;\">\n",
       "      <th></th>\n",
       "      <th>Hours</th>\n",
       "      <th>Scores</th>\n",
       "    </tr>\n",
       "  </thead>\n",
       "  <tbody>\n",
       "    <tr>\n",
       "      <th>0</th>\n",
       "      <td>2.5</td>\n",
       "      <td>21</td>\n",
       "    </tr>\n",
       "    <tr>\n",
       "      <th>1</th>\n",
       "      <td>5.1</td>\n",
       "      <td>47</td>\n",
       "    </tr>\n",
       "    <tr>\n",
       "      <th>2</th>\n",
       "      <td>3.2</td>\n",
       "      <td>27</td>\n",
       "    </tr>\n",
       "    <tr>\n",
       "      <th>3</th>\n",
       "      <td>8.5</td>\n",
       "      <td>75</td>\n",
       "    </tr>\n",
       "    <tr>\n",
       "      <th>4</th>\n",
       "      <td>3.5</td>\n",
       "      <td>30</td>\n",
       "    </tr>\n",
       "  </tbody>\n",
       "</table>\n",
       "</div>"
      ],
      "text/plain": [
       "   Hours  Scores\n",
       "0    2.5      21\n",
       "1    5.1      47\n",
       "2    3.2      27\n",
       "3    8.5      75\n",
       "4    3.5      30"
      ]
     },
     "execution_count": 45,
     "metadata": {},
     "output_type": "execute_result"
    }
   ],
   "source": [
    "df.head(5)"
   ]
  },
  {
   "cell_type": "code",
   "execution_count": 46,
   "id": "5dec6f50-c954-4c1e-a49c-e6106bca07a8",
   "metadata": {
    "execution": {
     "iopub.execute_input": "2025-08-12T08:48:12.979059Z",
     "iopub.status.busy": "2025-08-12T08:48:12.978483Z",
     "iopub.status.idle": "2025-08-12T08:48:12.982868Z",
     "shell.execute_reply": "2025-08-12T08:48:12.982159Z",
     "shell.execute_reply.started": "2025-08-12T08:48:12.979037Z"
    }
   },
   "outputs": [
    {
     "data": {
      "text/plain": [
       "(25, 2)"
      ]
     },
     "execution_count": 46,
     "metadata": {},
     "output_type": "execute_result"
    }
   ],
   "source": [
    "df.shape"
   ]
  },
  {
   "cell_type": "code",
   "execution_count": 47,
   "id": "d1d4e2e8-712f-4ab0-85c6-1aefdf9fc85f",
   "metadata": {
    "execution": {
     "iopub.execute_input": "2025-08-12T08:48:13.634409Z",
     "iopub.status.busy": "2025-08-12T08:48:13.633565Z",
     "iopub.status.idle": "2025-08-12T08:48:13.638511Z",
     "shell.execute_reply": "2025-08-12T08:48:13.637747Z",
     "shell.execute_reply.started": "2025-08-12T08:48:13.634385Z"
    }
   },
   "outputs": [],
   "source": [
    "#seprate \n",
    "x = df[['Hours']]\n",
    "y = df[['Scores']]"
   ]
  },
  {
   "cell_type": "code",
   "execution_count": 48,
   "id": "2aad93ab-621c-4c96-8679-372a9b7921be",
   "metadata": {
    "execution": {
     "iopub.execute_input": "2025-08-12T08:48:14.180925Z",
     "iopub.status.busy": "2025-08-12T08:48:14.180295Z",
     "iopub.status.idle": "2025-08-12T08:48:14.184426Z",
     "shell.execute_reply": "2025-08-12T08:48:14.183776Z",
     "shell.execute_reply.started": "2025-08-12T08:48:14.180898Z"
    }
   },
   "outputs": [],
   "source": [
    "x = x.astype('float32')\n",
    "y = y.astype('float32')"
   ]
  },
  {
   "cell_type": "code",
   "execution_count": 49,
   "id": "51f5a6b2-eefa-4d9a-bce8-a689452f10b7",
   "metadata": {
    "execution": {
     "iopub.execute_input": "2025-08-12T08:48:14.673585Z",
     "iopub.status.busy": "2025-08-12T08:48:14.672947Z",
     "iopub.status.idle": "2025-08-12T08:48:14.678188Z",
     "shell.execute_reply": "2025-08-12T08:48:14.677576Z",
     "shell.execute_reply.started": "2025-08-12T08:48:14.673558Z"
    }
   },
   "outputs": [],
   "source": [
    "# split data \n",
    "x_train, x_test, y_train, y_test = train_test_split(x, y, random_state=42, test_size= 0.2)"
   ]
  },
  {
   "cell_type": "code",
   "execution_count": 50,
   "id": "4cf5de6c-2269-427b-92cd-be99b48b9017",
   "metadata": {
    "execution": {
     "iopub.execute_input": "2025-08-12T08:48:15.517490Z",
     "iopub.status.busy": "2025-08-12T08:48:15.516837Z",
     "iopub.status.idle": "2025-08-12T08:48:15.524630Z",
     "shell.execute_reply": "2025-08-12T08:48:15.524058Z",
     "shell.execute_reply.started": "2025-08-12T08:48:15.517465Z"
    }
   },
   "outputs": [
    {
     "data": {
      "text/html": [
       "<div>\n",
       "<style scoped>\n",
       "    .dataframe tbody tr th:only-of-type {\n",
       "        vertical-align: middle;\n",
       "    }\n",
       "\n",
       "    .dataframe tbody tr th {\n",
       "        vertical-align: top;\n",
       "    }\n",
       "\n",
       "    .dataframe thead th {\n",
       "        text-align: right;\n",
       "    }\n",
       "</style>\n",
       "<table border=\"1\" class=\"dataframe\">\n",
       "  <thead>\n",
       "    <tr style=\"text-align: right;\">\n",
       "      <th></th>\n",
       "      <th>Hours</th>\n",
       "    </tr>\n",
       "  </thead>\n",
       "  <tbody>\n",
       "    <tr>\n",
       "      <th>9</th>\n",
       "      <td>2.7</td>\n",
       "    </tr>\n",
       "    <tr>\n",
       "      <th>13</th>\n",
       "      <td>3.3</td>\n",
       "    </tr>\n",
       "    <tr>\n",
       "      <th>1</th>\n",
       "      <td>5.1</td>\n",
       "    </tr>\n",
       "    <tr>\n",
       "      <th>22</th>\n",
       "      <td>3.8</td>\n",
       "    </tr>\n",
       "    <tr>\n",
       "      <th>5</th>\n",
       "      <td>1.5</td>\n",
       "    </tr>\n",
       "  </tbody>\n",
       "</table>\n",
       "</div>"
      ],
      "text/plain": [
       "    Hours\n",
       "9     2.7\n",
       "13    3.3\n",
       "1     5.1\n",
       "22    3.8\n",
       "5     1.5"
      ]
     },
     "execution_count": 50,
     "metadata": {},
     "output_type": "execute_result"
    }
   ],
   "source": [
    "x_train.head(5)"
   ]
  },
  {
   "cell_type": "code",
   "execution_count": 51,
   "id": "af4cec6f-7391-41e9-b5c2-2e6a65066fe1",
   "metadata": {
    "execution": {
     "iopub.execute_input": "2025-08-12T08:48:16.255373Z",
     "iopub.status.busy": "2025-08-12T08:48:16.255110Z",
     "iopub.status.idle": "2025-08-12T08:48:16.259701Z",
     "shell.execute_reply": "2025-08-12T08:48:16.258833Z",
     "shell.execute_reply.started": "2025-08-12T08:48:16.255354Z"
    }
   },
   "outputs": [],
   "source": [
    "# reset the index \n",
    "\n",
    "x_train = x_train.reset_index(drop= True)\n",
    "x_test = x_test.reset_index(drop= True)\n",
    "y_train = y_train.reset_index(drop= True)\n",
    "y_test = x_test.reset_index(drop= True)"
   ]
  },
  {
   "cell_type": "code",
   "execution_count": 52,
   "id": "5e7dcd0f-ed6e-4da0-84e2-134e979b5f8f",
   "metadata": {
    "execution": {
     "iopub.execute_input": "2025-08-12T08:48:16.815440Z",
     "iopub.status.busy": "2025-08-12T08:48:16.815106Z",
     "iopub.status.idle": "2025-08-12T08:48:16.831182Z",
     "shell.execute_reply": "2025-08-12T08:48:16.821189Z",
     "shell.execute_reply.started": "2025-08-12T08:48:16.815419Z"
    }
   },
   "outputs": [
    {
     "data": {
      "text/html": [
       "<div>\n",
       "<style scoped>\n",
       "    .dataframe tbody tr th:only-of-type {\n",
       "        vertical-align: middle;\n",
       "    }\n",
       "\n",
       "    .dataframe tbody tr th {\n",
       "        vertical-align: top;\n",
       "    }\n",
       "\n",
       "    .dataframe thead th {\n",
       "        text-align: right;\n",
       "    }\n",
       "</style>\n",
       "<table border=\"1\" class=\"dataframe\">\n",
       "  <thead>\n",
       "    <tr style=\"text-align: right;\">\n",
       "      <th></th>\n",
       "      <th>Hours</th>\n",
       "    </tr>\n",
       "  </thead>\n",
       "  <tbody>\n",
       "    <tr>\n",
       "      <th>0</th>\n",
       "      <td>2.7</td>\n",
       "    </tr>\n",
       "    <tr>\n",
       "      <th>1</th>\n",
       "      <td>3.3</td>\n",
       "    </tr>\n",
       "    <tr>\n",
       "      <th>2</th>\n",
       "      <td>5.1</td>\n",
       "    </tr>\n",
       "    <tr>\n",
       "      <th>3</th>\n",
       "      <td>3.8</td>\n",
       "    </tr>\n",
       "    <tr>\n",
       "      <th>4</th>\n",
       "      <td>1.5</td>\n",
       "    </tr>\n",
       "  </tbody>\n",
       "</table>\n",
       "</div>"
      ],
      "text/plain": [
       "   Hours\n",
       "0    2.7\n",
       "1    3.3\n",
       "2    5.1\n",
       "3    3.8\n",
       "4    1.5"
      ]
     },
     "execution_count": 52,
     "metadata": {},
     "output_type": "execute_result"
    }
   ],
   "source": [
    "x_train.head(5)"
   ]
  },
  {
   "cell_type": "code",
   "execution_count": 53,
   "id": "b4236803-56c3-4d90-84b9-114984641574",
   "metadata": {
    "execution": {
     "iopub.execute_input": "2025-08-12T08:48:17.480187Z",
     "iopub.status.busy": "2025-08-12T08:48:17.479522Z",
     "iopub.status.idle": "2025-08-12T08:48:17.483170Z",
     "shell.execute_reply": "2025-08-12T08:48:17.482515Z",
     "shell.execute_reply.started": "2025-08-12T08:48:17.480160Z"
    }
   },
   "outputs": [],
   "source": [
    "# we need to take label column as vector \n",
    "\n",
    "y_train = y_train.iloc[:,0]"
   ]
  },
  {
   "cell_type": "code",
   "execution_count": 54,
   "id": "67008e24-da1a-4cf2-8bc2-5604d217dc50",
   "metadata": {
    "execution": {
     "iopub.execute_input": "2025-08-12T08:48:17.921644Z",
     "iopub.status.busy": "2025-08-12T08:48:17.921076Z",
     "iopub.status.idle": "2025-08-12T08:48:17.926261Z",
     "shell.execute_reply": "2025-08-12T08:48:17.925605Z",
     "shell.execute_reply.started": "2025-08-12T08:48:17.921619Z"
    }
   },
   "outputs": [
    {
     "data": {
      "text/plain": [
       "0    25.0\n",
       "1    42.0\n",
       "2    47.0\n",
       "3    35.0\n",
       "4    20.0\n",
       "Name: Scores, dtype: float32"
      ]
     },
     "execution_count": 54,
     "metadata": {},
     "output_type": "execute_result"
    }
   ],
   "source": [
    "y_train.head(5)"
   ]
  },
  {
   "cell_type": "code",
   "execution_count": 55,
   "id": "741a807c-1e8b-4984-8f35-40d55a452a98",
   "metadata": {
    "execution": {
     "iopub.execute_input": "2025-08-12T08:48:18.366268Z",
     "iopub.status.busy": "2025-08-12T08:48:18.365610Z",
     "iopub.status.idle": "2025-08-12T08:48:18.369421Z",
     "shell.execute_reply": "2025-08-12T08:48:18.368747Z",
     "shell.execute_reply.started": "2025-08-12T08:48:18.366244Z"
    }
   },
   "outputs": [],
   "source": [
    "y_test = y_test.iloc[:,0]"
   ]
  },
  {
   "cell_type": "code",
   "execution_count": 56,
   "id": "84734683-3137-4ebc-a411-c54cabb08887",
   "metadata": {
    "execution": {
     "iopub.execute_input": "2025-08-12T08:48:18.929193Z",
     "iopub.status.busy": "2025-08-12T08:48:18.928934Z",
     "iopub.status.idle": "2025-08-12T08:48:18.975828Z",
     "shell.execute_reply": "2025-08-12T08:48:18.975137Z",
     "shell.execute_reply.started": "2025-08-12T08:48:18.929175Z"
    }
   },
   "outputs": [],
   "source": [
    "# let create sagemaker session\n",
    "\n",
    "sagemaker_session = sagemaker.Session()\n",
    "\n",
    "#define a bucket name \n",
    "\n",
    "bucket_name = 'saurabh-sagemaker'\n",
    "\n",
    "# define the prefiex (folder)\n",
    "\n",
    "prefix = 'liner-regression-model'\n",
    "\n",
    "# get the execuation role\n",
    "\n",
    "role = sagemaker.get_execution_role()\n",
    "\n"
   ]
  },
  {
   "cell_type": "code",
   "execution_count": 57,
   "id": "9294a49e-2e69-4b56-b8ed-6dcef130a558",
   "metadata": {
    "execution": {
     "iopub.execute_input": "2025-08-12T08:48:19.639930Z",
     "iopub.status.busy": "2025-08-12T08:48:19.639279Z",
     "iopub.status.idle": "2025-08-12T08:48:19.642726Z",
     "shell.execute_reply": "2025-08-12T08:48:19.642046Z",
     "shell.execute_reply.started": "2025-08-12T08:48:19.639903Z"
    }
   },
   "outputs": [],
   "source": [
    "# convert x_train to numpy \n",
    "\n",
    "x_train = np.array(x_train)"
   ]
  },
  {
   "cell_type": "code",
   "execution_count": 58,
   "id": "c821918e-ee66-4f5e-81c4-db04b06bac06",
   "metadata": {
    "execution": {
     "iopub.execute_input": "2025-08-12T08:48:20.073514Z",
     "iopub.status.busy": "2025-08-12T08:48:20.072959Z",
     "iopub.status.idle": "2025-08-12T08:48:20.078111Z",
     "shell.execute_reply": "2025-08-12T08:48:20.077380Z",
     "shell.execute_reply.started": "2025-08-12T08:48:20.073492Z"
    }
   },
   "outputs": [
    {
     "data": {
      "text/plain": [
       "0"
      ]
     },
     "execution_count": 58,
     "metadata": {},
     "output_type": "execute_result"
    }
   ],
   "source": [
    "#create buffer\n",
    "\n",
    "buf = io.BytesIO()\n",
    "smac.write_numpy_to_dense_tensor(buf, x_train, y_train)\n",
    "\n",
    "buf.seek(0)"
   ]
  },
  {
   "cell_type": "code",
   "execution_count": 59,
   "id": "6c590cfe-44df-402c-b9fc-d55e97355d5a",
   "metadata": {
    "execution": {
     "iopub.execute_input": "2025-08-12T08:48:20.511489Z",
     "iopub.status.busy": "2025-08-12T08:48:20.510809Z",
     "iopub.status.idle": "2025-08-12T08:48:20.514440Z",
     "shell.execute_reply": "2025-08-12T08:48:20.513819Z",
     "shell.execute_reply.started": "2025-08-12T08:48:20.511466Z"
    }
   },
   "outputs": [],
   "source": [
    "import boto3"
   ]
  },
  {
   "cell_type": "code",
   "execution_count": 60,
   "id": "665a241f-b6a0-4f0b-8569-111521cb6e84",
   "metadata": {
    "execution": {
     "iopub.execute_input": "2025-08-12T08:48:21.068741Z",
     "iopub.status.busy": "2025-08-12T08:48:21.068180Z",
     "iopub.status.idle": "2025-08-12T08:48:21.147465Z",
     "shell.execute_reply": "2025-08-12T08:48:21.146805Z",
     "shell.execute_reply.started": "2025-08-12T08:48:21.068719Z"
    }
   },
   "outputs": [
    {
     "name": "stdout",
     "output_type": "stream",
     "text": [
      "data upload s3://saurabh-sagemaker/liner-regression-model/train/student-data\n"
     ]
    }
   ],
   "source": [
    "# store the data to s3 bucket\n",
    "\n",
    "# define file name \n",
    "key = 'student-data'\n",
    "\n",
    "#code to upload in s3\n",
    "boto3.resource('s3').Bucket(bucket_name).Object(os.path.join(prefix, 'train', key)).upload_fileobj(buf)\n",
    "\n",
    "# path of our data\n",
    "s3_train_data = f\"s3://{bucket_name}/{prefix}/train/{key}\"\n",
    "\n",
    "print('data upload', s3_train_data)"
   ]
  },
  {
   "cell_type": "code",
   "execution_count": 61,
   "id": "940f9f86-72c2-4c38-a183-1b2479c08cf3",
   "metadata": {
    "execution": {
     "iopub.execute_input": "2025-08-12T08:48:21.939830Z",
     "iopub.status.busy": "2025-08-12T08:48:21.939470Z",
     "iopub.status.idle": "2025-08-12T08:48:22.022810Z",
     "shell.execute_reply": "2025-08-12T08:48:22.022071Z",
     "shell.execute_reply.started": "2025-08-12T08:48:21.939809Z"
    }
   },
   "outputs": [
    {
     "name": "stdout",
     "output_type": "stream",
     "text": [
      "data upload s3://saurabh-sagemaker/liner-regression-model/test/student-test-data\n"
     ]
    }
   ],
   "source": [
    "# now upload test data to s3 bucket\n",
    "# convert x_test to numpy array\n",
    "\n",
    "x_test = np.array(x_test)\n",
    "\n",
    "\n",
    "#create buffer\n",
    "\n",
    "buf = io.BytesIO()\n",
    "smac.write_numpy_to_dense_tensor(buf, x_test, y_test)\n",
    "\n",
    "buf.seek(0)\n",
    "\n",
    "\n",
    "\n",
    "# store the data to s3 bucket\n",
    "\n",
    "# define file name \n",
    "key = 'student-test-data'\n",
    "\n",
    "#code to upload in s3\n",
    "boto3.resource('s3').Bucket(bucket_name).Object(os.path.join(prefix, 'test', key)).upload_fileobj(buf)\n",
    "\n",
    "# path of our data\n",
    "s3_train_data = f\"s3://{bucket_name}/{prefix}/test/{key}\"\n",
    "\n",
    "print('data upload', s3_train_data)"
   ]
  },
  {
   "cell_type": "code",
   "execution_count": 62,
   "id": "89d483b1-a969-44d0-afe4-9460edbbf396",
   "metadata": {
    "execution": {
     "iopub.execute_input": "2025-08-12T08:48:23.055524Z",
     "iopub.status.busy": "2025-08-12T08:48:23.055201Z",
     "iopub.status.idle": "2025-08-12T08:48:23.060386Z",
     "shell.execute_reply": "2025-08-12T08:48:23.059751Z",
     "shell.execute_reply.started": "2025-08-12T08:48:23.055503Z"
    }
   },
   "outputs": [
    {
     "data": {
      "text/plain": [
       "'s3://saurabh-sagemaker/liner-regression-model/output'"
      ]
     },
     "execution_count": 62,
     "metadata": {},
     "output_type": "execute_result"
    }
   ],
   "source": [
    "# output location \n",
    "\n",
    "output_location = f\"s3://{bucket_name}/{prefix}/output\"\n",
    "\n",
    "output_location"
   ]
  },
  {
   "cell_type": "code",
   "execution_count": 63,
   "id": "8f6deabb-71d9-489c-87e0-fe74c132a442",
   "metadata": {
    "execution": {
     "iopub.execute_input": "2025-08-12T08:48:30.093917Z",
     "iopub.status.busy": "2025-08-12T08:48:30.093244Z",
     "iopub.status.idle": "2025-08-12T08:48:30.127334Z",
     "shell.execute_reply": "2025-08-12T08:48:30.126695Z",
     "shell.execute_reply.started": "2025-08-12T08:48:30.093891Z"
    }
   },
   "outputs": [
    {
     "name": "stderr",
     "output_type": "stream",
     "text": [
      "INFO:sagemaker.image_uris:Same images used for training and inference. Defaulting to image scope: inference.\n",
      "INFO:sagemaker.image_uris:Ignoring unnecessary instance type: None.\n"
     ]
    },
    {
     "name": "stdout",
     "output_type": "stream",
     "text": [
      "991648021394.dkr.ecr.ap-south-1.amazonaws.com/linear-learner:1\n"
     ]
    }
   ],
   "source": [
    "# bring container creating model \n",
    "\n",
    "container = sagemaker.image_uris.retrieve(\n",
    "    framework=\"linear-learner\",\n",
    "    region=boto3.Session().region_name\n",
    ")\n",
    "\n",
    "print(container)"
   ]
  },
  {
   "cell_type": "code",
   "execution_count": 64,
   "id": "eccd8239-b099-4fba-8a40-60934b622b29",
   "metadata": {
    "execution": {
     "iopub.execute_input": "2025-08-12T08:48:32.213449Z",
     "iopub.status.busy": "2025-08-12T08:48:32.212894Z",
     "iopub.status.idle": "2025-08-12T08:48:32.242951Z",
     "shell.execute_reply": "2025-08-12T08:48:32.242319Z",
     "shell.execute_reply.started": "2025-08-12T08:48:32.213427Z"
    }
   },
   "outputs": [],
   "source": [
    "# Create the estimator\n",
    "linear = sagemaker.estimator.Estimator(\n",
    "    image_uri=container,                     # Algorithm container\n",
    "    role= role,\n",
    "    instance_count=1,                         # Number of training instances\n",
    "    instance_type=\"ml.c4.xlarge\",             # Instance type\n",
    "    output_path= output_location,   # Where model artifacts are stored\n",
    "    sagemaker_session=sagemaker.Session())"
   ]
  },
  {
   "cell_type": "code",
   "execution_count": 65,
   "id": "09908c6f-dec8-4808-ba84-dced9c407a90",
   "metadata": {
    "execution": {
     "iopub.execute_input": "2025-08-12T08:48:35.975120Z",
     "iopub.status.busy": "2025-08-12T08:48:35.974541Z",
     "iopub.status.idle": "2025-08-12T08:48:35.978157Z",
     "shell.execute_reply": "2025-08-12T08:48:35.977533Z",
     "shell.execute_reply.started": "2025-08-12T08:48:35.975096Z"
    }
   },
   "outputs": [],
   "source": [
    "# Set hyperparameters\n",
    "\n",
    "linear.set_hyperparameters(\n",
    "    feature_dim = 1,   # Number of input features\n",
    "    predictor_type=\"regressor\",    # Since it's linear regression\n",
    "    mini_batch_size= 4,            # Batch size\n",
    "    epochs=6,                     # Number of passes through data\n",
    "    loss=\"absolute_loss\",            # L1 loss\n",
    "    num_models =32                # Train multiple models in parallel\n",
    ")"
   ]
  },
  {
   "cell_type": "code",
   "execution_count": 66,
   "id": "e49e1f91-c0b2-4f50-8f9c-7324abc08981",
   "metadata": {
    "execution": {
     "iopub.execute_input": "2025-08-12T08:48:52.282754Z",
     "iopub.status.busy": "2025-08-12T08:48:52.282494Z",
     "iopub.status.idle": "2025-08-12T08:52:39.148400Z",
     "shell.execute_reply": "2025-08-12T08:52:39.147778Z",
     "shell.execute_reply.started": "2025-08-12T08:48:52.282735Z"
    },
    "scrolled": true
   },
   "outputs": [
    {
     "name": "stderr",
     "output_type": "stream",
     "text": [
      "INFO:sagemaker.telemetry.telemetry_logging:SageMaker Python SDK will collect telemetry to help us better understand our user's needs, diagnose issues, and deliver additional features.\n",
      "To opt out of telemetry, please disable via TelemetryOptOut parameter in SDK defaults config. For more information, refer to https://sagemaker.readthedocs.io/en/stable/overview.html#configuring-and-using-defaults-with-the-sagemaker-python-sdk.\n",
      "INFO:sagemaker:Creating training-job with name: linear-learner-2025-08-12-08-48-52-285\n"
     ]
    },
    {
     "name": "stdout",
     "output_type": "stream",
     "text": [
      "2025-08-12 08:48:53 Starting - Starting the training job...\n",
      "2025-08-12 08:49:09 Starting - Preparing the instances for training...\n",
      "2025-08-12 08:49:29 Downloading - Downloading input data...\n",
      "2025-08-12 08:50:15 Downloading - Downloading the training image.........\n",
      "2025-08-12 08:51:51 Training - Training image download completed. Training in progress..\u001b[34mDocker entrypoint called with argument(s): train\u001b[0m\n",
      "\u001b[34mRunning default environment configuration script\u001b[0m\n",
      "\u001b[34m[08/12/2025 08:51:59 INFO 140639117055808] Reading default configuration from /opt/amazon/lib/python3.8/site-packages/algorithm/resources/default-input.json: {'mini_batch_size': '1000', 'epochs': '15', 'feature_dim': 'auto', 'use_bias': 'true', 'binary_classifier_model_selection_criteria': 'accuracy', 'f_beta': '1.0', 'target_recall': '0.8', 'target_precision': '0.8', 'num_models': 'auto', 'num_calibration_samples': '10000000', 'init_method': 'uniform', 'init_scale': '0.07', 'init_sigma': '0.01', 'init_bias': '0.0', 'optimizer': 'auto', 'loss': 'auto', 'margin': '1.0', 'quantile': '0.5', 'loss_insensitivity': '0.01', 'huber_delta': '1.0', 'num_classes': '1', 'accuracy_top_k': '3', 'wd': 'auto', 'l1': 'auto', 'momentum': 'auto', 'learning_rate': 'auto', 'beta_1': 'auto', 'beta_2': 'auto', 'bias_lr_mult': 'auto', 'bias_wd_mult': 'auto', 'use_lr_scheduler': 'true', 'lr_scheduler_step': 'auto', 'lr_scheduler_factor': 'auto', 'lr_scheduler_minimum_lr': 'auto', 'positive_example_weight_mult': '1.0', 'balance_multiclass_weights': 'false', 'normalize_data': 'true', 'normalize_label': 'auto', 'unbias_data': 'auto', 'unbias_label': 'auto', 'num_point_for_scaler': '10000', '_kvstore': 'auto', '_num_gpus': 'auto', '_num_kv_servers': 'auto', '_log_level': 'info', '_tuning_objective_metric': '', 'early_stopping_patience': '3', 'early_stopping_tolerance': '0.001', '_enable_profiler': 'false'}\u001b[0m\n",
      "\u001b[34m[08/12/2025 08:51:59 INFO 140639117055808] Merging with provided configuration from /opt/ml/input/config/hyperparameters.json: {'epochs': '6', 'feature_dim': '1', 'loss': 'absolute_loss', 'mini_batch_size': '4', 'num_models': '32', 'predictor_type': 'regressor'}\u001b[0m\n",
      "\u001b[34m[08/12/2025 08:51:59 INFO 140639117055808] Final configuration: {'mini_batch_size': '4', 'epochs': '6', 'feature_dim': '1', 'use_bias': 'true', 'binary_classifier_model_selection_criteria': 'accuracy', 'f_beta': '1.0', 'target_recall': '0.8', 'target_precision': '0.8', 'num_models': '32', 'num_calibration_samples': '10000000', 'init_method': 'uniform', 'init_scale': '0.07', 'init_sigma': '0.01', 'init_bias': '0.0', 'optimizer': 'auto', 'loss': 'absolute_loss', 'margin': '1.0', 'quantile': '0.5', 'loss_insensitivity': '0.01', 'huber_delta': '1.0', 'num_classes': '1', 'accuracy_top_k': '3', 'wd': 'auto', 'l1': 'auto', 'momentum': 'auto', 'learning_rate': 'auto', 'beta_1': 'auto', 'beta_2': 'auto', 'bias_lr_mult': 'auto', 'bias_wd_mult': 'auto', 'use_lr_scheduler': 'true', 'lr_scheduler_step': 'auto', 'lr_scheduler_factor': 'auto', 'lr_scheduler_minimum_lr': 'auto', 'positive_example_weight_mult': '1.0', 'balance_multiclass_weights': 'false', 'normalize_data': 'true', 'normalize_label': 'auto', 'unbias_data': 'auto', 'unbias_label': 'auto', 'num_point_for_scaler': '10000', '_kvstore': 'auto', '_num_gpus': 'auto', '_num_kv_servers': 'auto', '_log_level': 'info', '_tuning_objective_metric': '', 'early_stopping_patience': '3', 'early_stopping_tolerance': '0.001', '_enable_profiler': 'false', 'predictor_type': 'regressor'}\u001b[0m\n",
      "\u001b[34m/opt/amazon/lib/python3.8/site-packages/mxnet/model.py:97: SyntaxWarning: \"is\" with a literal. Did you mean \"==\"?\n",
      "  if num_device is 1 and 'dist' not in kvstore:\u001b[0m\n",
      "\u001b[34m/opt/amazon/lib/python3.8/site-packages/scipy/optimize/_shgo.py:495: SyntaxWarning: \"is\" with a literal. Did you mean \"==\"?\n",
      "  if cons['type'] is 'ineq':\u001b[0m\n",
      "\u001b[34m/opt/amazon/lib/python3.8/site-packages/scipy/optimize/_shgo.py:743: SyntaxWarning: \"is not\" with a literal. Did you mean \"!=\"?\n",
      "  if len(self.X_min) is not 0:\u001b[0m\n",
      "\u001b[34m[08/12/2025 08:52:01 WARNING 140639117055808] Loggers have already been setup.\u001b[0m\n",
      "\u001b[34m[08/12/2025 08:52:01 INFO 140639117055808] Final configuration: {'mini_batch_size': '4', 'epochs': '6', 'feature_dim': '1', 'use_bias': 'true', 'binary_classifier_model_selection_criteria': 'accuracy', 'f_beta': '1.0', 'target_recall': '0.8', 'target_precision': '0.8', 'num_models': '32', 'num_calibration_samples': '10000000', 'init_method': 'uniform', 'init_scale': '0.07', 'init_sigma': '0.01', 'init_bias': '0.0', 'optimizer': 'auto', 'loss': 'absolute_loss', 'margin': '1.0', 'quantile': '0.5', 'loss_insensitivity': '0.01', 'huber_delta': '1.0', 'num_classes': '1', 'accuracy_top_k': '3', 'wd': 'auto', 'l1': 'auto', 'momentum': 'auto', 'learning_rate': 'auto', 'beta_1': 'auto', 'beta_2': 'auto', 'bias_lr_mult': 'auto', 'bias_wd_mult': 'auto', 'use_lr_scheduler': 'true', 'lr_scheduler_step': 'auto', 'lr_scheduler_factor': 'auto', 'lr_scheduler_minimum_lr': 'auto', 'positive_example_weight_mult': '1.0', 'balance_multiclass_weights': 'false', 'normalize_data': 'true', 'normalize_label': 'auto', 'unbias_data': 'auto', 'unbias_label': 'auto', 'num_point_for_scaler': '10000', '_kvstore': 'auto', '_num_gpus': 'auto', '_num_kv_servers': 'auto', '_log_level': 'info', '_tuning_objective_metric': '', 'early_stopping_patience': '3', 'early_stopping_tolerance': '0.001', '_enable_profiler': 'false', 'predictor_type': 'regressor'}\u001b[0m\n",
      "\u001b[34m[08/12/2025 08:52:01 WARNING 140639117055808] Loggers have already been setup.\u001b[0m\n",
      "\u001b[34mProcess 7 is a worker.\u001b[0m\n",
      "\u001b[34m[08/12/2025 08:52:01 INFO 140639117055808] Using default worker.\u001b[0m\n",
      "\u001b[34m[08/12/2025 08:52:02 INFO 140639117055808] Checkpoint loading and saving are disabled.\u001b[0m\n",
      "\u001b[34m[2025-08-12 08:52:02.111] [tensorio] [info] epoch_stats={\"data_pipeline\": \"/opt/ml/input/data/train\", \"epoch\": 0, \"duration\": 12, \"num_examples\": 1, \"num_bytes\": 192}\u001b[0m\n",
      "\u001b[34m[08/12/2025 08:52:02 INFO 140639117055808] Create Store: local\u001b[0m\n",
      "\u001b[34m[2025-08-12 08:52:02.125] [tensorio] [info] epoch_stats={\"data_pipeline\": \"/opt/ml/input/data/train\", \"epoch\": 1, \"duration\": 12, \"num_examples\": 2, \"num_bytes\": 240}\u001b[0m\n",
      "\u001b[34m[08/12/2025 08:52:02 INFO 140639117055808] Scaler algorithm parameters\n",
      " <algorithm.scaler.ScalerAlgorithmStable object at 0x7fe887ad8460>\u001b[0m\n",
      "\u001b[34m[08/12/2025 08:52:02 INFO 140639117055808] Scaling model computed with parameters:\n",
      " {'stdev_label': \u001b[0m\n",
      "\u001b[34m[2.5975952]\u001b[0m\n",
      "\u001b[34m<NDArray 1 @cpu(0)>, 'stdev_weight': \u001b[0m\n",
      "\u001b[34m[2.5975952]\u001b[0m\n",
      "\u001b[34m<NDArray 1 @cpu(0)>, 'mean_label': \u001b[0m\n",
      "\u001b[34m[5.05]\u001b[0m\n",
      "\u001b[34m<NDArray 1 @cpu(0)>, 'mean_weight': \u001b[0m\n",
      "\u001b[34m[5.05]\u001b[0m\n",
      "\u001b[34m<NDArray 1 @cpu(0)>}\u001b[0m\n",
      "\u001b[34m/opt/amazon/python3.8/lib/python3.8/subprocess.py:848: RuntimeWarning: line buffering (buffering=1) isn't supported in binary mode, the default buffer size will be used\n",
      "  self.stdout = io.open(c2pread, 'rb', bufsize)\u001b[0m\n",
      "\u001b[34m[08/12/2025 08:52:02 INFO 140639117055808] nvidia-smi: took 0.034 seconds to run.\u001b[0m\n",
      "\u001b[34m[08/12/2025 08:52:02 INFO 140639117055808] nvidia-smi identified 0 GPUs.\u001b[0m\n",
      "\u001b[34m[08/12/2025 08:52:02 INFO 140639117055808] Number of GPUs being used: 0\u001b[0m\n",
      "\u001b[34m#metrics {\"StartTime\": 1754988722.2152772, \"EndTime\": 1754988722.2153137, \"Dimensions\": {\"Algorithm\": \"Linear Learner\", \"Host\": \"algo-1\", \"Operation\": \"training\", \"Meta\": \"init_train_data_iter\"}, \"Metrics\": {\"Total Records Seen\": {\"sum\": 9.0, \"count\": 1, \"min\": 9, \"max\": 9}, \"Total Batches Seen\": {\"sum\": 3.0, \"count\": 1, \"min\": 3, \"max\": 3}, \"Max Records Seen Between Resets\": {\"sum\": 5.0, \"count\": 1, \"min\": 5, \"max\": 5}, \"Max Batches Seen Between Resets\": {\"sum\": 2.0, \"count\": 1, \"min\": 2, \"max\": 2}, \"Reset Count\": {\"sum\": 2.0, \"count\": 1, \"min\": 2, \"max\": 2}, \"Number of Records Since Last Reset\": {\"sum\": 0.0, \"count\": 1, \"min\": 0, \"max\": 0}, \"Number of Batches Since Last Reset\": {\"sum\": 0.0, \"count\": 1, \"min\": 0, \"max\": 0}}}\u001b[0m\n",
      "\u001b[34m[2025-08-12 08:52:02.238] [tensorio] [info] epoch_stats={\"data_pipeline\": \"/opt/ml/input/data/train\", \"epoch\": 4, \"duration\": 23, \"num_examples\": 2, \"num_bytes\": 240}\u001b[0m\n",
      "\u001b[34m#metrics {\"StartTime\": 1754988722.2388384, \"EndTime\": 1754988722.2389162, \"Dimensions\": {\"Algorithm\": \"Linear Learner\", \"Host\": \"algo-1\", \"Operation\": \"training\", \"epoch\": 0, \"model\": 0}, \"Metrics\": {\"train_absolute_loss_objective\": {\"sum\": 0.9749685525894165, \"count\": 1, \"min\": 0.9749685525894165, \"max\": 0.9749685525894165}}}\u001b[0m\n",
      "\u001b[34m#metrics {\"StartTime\": 1754988722.2389953, \"EndTime\": 1754988722.2390091, \"Dimensions\": {\"Algorithm\": \"Linear Learner\", \"Host\": \"algo-1\", \"Operation\": \"training\", \"epoch\": 0, \"model\": 1}, \"Metrics\": {\"train_absolute_loss_objective\": {\"sum\": 0.9975672364234924, \"count\": 1, \"min\": 0.9975672364234924, \"max\": 0.9975672364234924}}}\u001b[0m\n",
      "\u001b[34m#metrics {\"StartTime\": 1754988722.2390394, \"EndTime\": 1754988722.2390478, \"Dimensions\": {\"Algorithm\": \"Linear Learner\", \"Host\": \"algo-1\", \"Operation\": \"training\", \"epoch\": 0, \"model\": 2}, \"Metrics\": {\"train_absolute_loss_objective\": {\"sum\": 0.9777060747146606, \"count\": 1, \"min\": 0.9777060747146606, \"max\": 0.9777060747146606}}}\u001b[0m\n",
      "\u001b[34m#metrics {\"StartTime\": 1754988722.2390761, \"EndTime\": 1754988722.2390842, \"Dimensions\": {\"Algorithm\": \"Linear Learner\", \"Host\": \"algo-1\", \"Operation\": \"training\", \"epoch\": 0, \"model\": 3}, \"Metrics\": {\"train_absolute_loss_objective\": {\"sum\": 0.9964122772216797, \"count\": 1, \"min\": 0.9964122772216797, \"max\": 0.9964122772216797}}}\u001b[0m\n",
      "\u001b[34m#metrics {\"StartTime\": 1754988722.2391424, \"EndTime\": 1754988722.2391536, \"Dimensions\": {\"Algorithm\": \"Linear Learner\", \"Host\": \"algo-1\", \"Operation\": \"training\", \"epoch\": 0, \"model\": 4}, \"Metrics\": {\"train_absolute_loss_objective\": {\"sum\": 0.923185408115387, \"count\": 1, \"min\": 0.923185408115387, \"max\": 0.923185408115387}}}\u001b[0m\n",
      "\u001b[34m#metrics {\"StartTime\": 1754988722.2392113, \"EndTime\": 1754988722.2392216, \"Dimensions\": {\"Algorithm\": \"Linear Learner\", \"Host\": \"algo-1\", \"Operation\": \"training\", \"epoch\": 0, \"model\": 5}, \"Metrics\": {\"train_absolute_loss_objective\": {\"sum\": 0.9354882836341858, \"count\": 1, \"min\": 0.9354882836341858, \"max\": 0.9354882836341858}}}\u001b[0m\n",
      "\u001b[34m#metrics {\"StartTime\": 1754988722.2392852, \"EndTime\": 1754988722.2392967, \"Dimensions\": {\"Algorithm\": \"Linear Learner\", \"Host\": \"algo-1\", \"Operation\": \"training\", \"epoch\": 0, \"model\": 6}, \"Metrics\": {\"train_absolute_loss_objective\": {\"sum\": 1.0406317710876465, \"count\": 1, \"min\": 1.0406317710876465, \"max\": 1.0406317710876465}}}\u001b[0m\n",
      "\u001b[34m#metrics {\"StartTime\": 1754988722.239358, \"EndTime\": 1754988722.2393682, \"Dimensions\": {\"Algorithm\": \"Linear Learner\", \"Host\": \"algo-1\", \"Operation\": \"training\", \"epoch\": 0, \"model\": 7}, \"Metrics\": {\"train_absolute_loss_objective\": {\"sum\": 1.004024624824524, \"count\": 1, \"min\": 1.004024624824524, \"max\": 1.004024624824524}}}\u001b[0m\n",
      "\u001b[34m#metrics {\"StartTime\": 1754988722.2394443, \"EndTime\": 1754988722.2394583, \"Dimensions\": {\"Algorithm\": \"Linear Learner\", \"Host\": \"algo-1\", \"Operation\": \"training\", \"epoch\": 0, \"model\": 8}, \"Metrics\": {\"train_absolute_loss_objective\": {\"sum\": 1.0384199619293213, \"count\": 1, \"min\": 1.0384199619293213, \"max\": 1.0384199619293213}}}\u001b[0m\n",
      "\u001b[34m#metrics {\"StartTime\": 1754988722.23949, \"EndTime\": 1754988722.2394974, \"Dimensions\": {\"Algorithm\": \"Linear Learner\", \"Host\": \"algo-1\", \"Operation\": \"training\", \"epoch\": 0, \"model\": 9}, \"Metrics\": {\"train_absolute_loss_objective\": {\"sum\": 0.9613132476806641, \"count\": 1, \"min\": 0.9613132476806641, \"max\": 0.9613132476806641}}}\u001b[0m\n",
      "\u001b[34m#metrics {\"StartTime\": 1754988722.2395225, \"EndTime\": 1754988722.2395308, \"Dimensions\": {\"Algorithm\": \"Linear Learner\", \"Host\": \"algo-1\", \"Operation\": \"training\", \"epoch\": 0, \"model\": 10}, \"Metrics\": {\"train_absolute_loss_objective\": {\"sum\": 0.9689171314239502, \"count\": 1, \"min\": 0.9689171314239502, \"max\": 0.9689171314239502}}}\u001b[0m\n",
      "\u001b[34m#metrics {\"StartTime\": 1754988722.239619, \"EndTime\": 1754988722.2396312, \"Dimensions\": {\"Algorithm\": \"Linear Learner\", \"Host\": \"algo-1\", \"Operation\": \"training\", \"epoch\": 0, \"model\": 11}, \"Metrics\": {\"train_absolute_loss_objective\": {\"sum\": 0.9521027207374573, \"count\": 1, \"min\": 0.9521027207374573, \"max\": 0.9521027207374573}}}\u001b[0m\n",
      "\u001b[34m#metrics {\"StartTime\": 1754988722.2397072, \"EndTime\": 1754988722.2397199, \"Dimensions\": {\"Algorithm\": \"Linear Learner\", \"Host\": \"algo-1\", \"Operation\": \"training\", \"epoch\": 0, \"model\": 12}, \"Metrics\": {\"train_absolute_loss_objective\": {\"sum\": 0.9343631267547607, \"count\": 1, \"min\": 0.9343631267547607, \"max\": 0.9343631267547607}}}\u001b[0m\n",
      "\u001b[34m#metrics {\"StartTime\": 1754988722.2397847, \"EndTime\": 1754988722.2397969, \"Dimensions\": {\"Algorithm\": \"Linear Learner\", \"Host\": \"algo-1\", \"Operation\": \"training\", \"epoch\": 0, \"model\": 13}, \"Metrics\": {\"train_absolute_loss_objective\": {\"sum\": 0.967553973197937, \"count\": 1, \"min\": 0.967553973197937, \"max\": 0.967553973197937}}}\u001b[0m\n",
      "\u001b[34m#metrics {\"StartTime\": 1754988722.239857, \"EndTime\": 1754988722.2398684, \"Dimensions\": {\"Algorithm\": \"Linear Learner\", \"Host\": \"algo-1\", \"Operation\": \"training\", \"epoch\": 0, \"model\": 14}, \"Metrics\": {\"train_absolute_loss_objective\": {\"sum\": 0.9324830174446106, \"count\": 1, \"min\": 0.9324830174446106, \"max\": 0.9324830174446106}}}\u001b[0m\n",
      "\u001b[34m#metrics {\"StartTime\": 1754988722.2399216, \"EndTime\": 1754988722.239932, \"Dimensions\": {\"Algorithm\": \"Linear Learner\", \"Host\": \"algo-1\", \"Operation\": \"training\", \"epoch\": 0, \"model\": 15}, \"Metrics\": {\"train_absolute_loss_objective\": {\"sum\": 0.9755086898803711, \"count\": 1, \"min\": 0.9755086898803711, \"max\": 0.9755086898803711}}}\u001b[0m\n",
      "\u001b[34m#metrics {\"StartTime\": 1754988722.2399628, \"EndTime\": 1754988722.239973, \"Dimensions\": {\"Algorithm\": \"Linear Learner\", \"Host\": \"algo-1\", \"Operation\": \"training\", \"epoch\": 0, \"model\": 16}, \"Metrics\": {\"train_absolute_loss_objective\": {\"sum\": 0.9339527487754822, \"count\": 1, \"min\": 0.9339527487754822, \"max\": 0.9339527487754822}}}\u001b[0m\n",
      "\u001b[34m#metrics {\"StartTime\": 1754988722.2400026, \"EndTime\": 1754988722.2400086, \"Dimensions\": {\"Algorithm\": \"Linear Learner\", \"Host\": \"algo-1\", \"Operation\": \"training\", \"epoch\": 0, \"model\": 17}, \"Metrics\": {\"train_absolute_loss_objective\": {\"sum\": 0.9921697378158569, \"count\": 1, \"min\": 0.9921697378158569, \"max\": 0.9921697378158569}}}\u001b[0m\n",
      "\u001b[34m#metrics {\"StartTime\": 1754988722.240037, \"EndTime\": 1754988722.2400458, \"Dimensions\": {\"Algorithm\": \"Linear Learner\", \"Host\": \"algo-1\", \"Operation\": \"training\", \"epoch\": 0, \"model\": 18}, \"Metrics\": {\"train_absolute_loss_objective\": {\"sum\": 0.9646952748298645, \"count\": 1, \"min\": 0.9646952748298645, \"max\": 0.9646952748298645}}}\u001b[0m\n",
      "\u001b[34m#metrics {\"StartTime\": 1754988722.2401078, \"EndTime\": 1754988722.240631, \"Dimensions\": {\"Algorithm\": \"Linear Learner\", \"Host\": \"algo-1\", \"Operation\": \"training\", \"epoch\": 0, \"model\": 19}, \"Metrics\": {\"train_absolute_loss_objective\": {\"sum\": 0.9616262912750244, \"count\": 1, \"min\": 0.9616262912750244, \"max\": 0.9616262912750244}}}\u001b[0m\n",
      "\u001b[34m#metrics {\"StartTime\": 1754988722.2406654, \"EndTime\": 1754988722.2406712, \"Dimensions\": {\"Algorithm\": \"Linear Learner\", \"Host\": \"algo-1\", \"Operation\": \"training\", \"epoch\": 0, \"model\": 20}, \"Metrics\": {\"train_absolute_loss_objective\": {\"sum\": 0.9902548789978027, \"count\": 1, \"min\": 0.9902548789978027, \"max\": 0.9902548789978027}}}\u001b[0m\n",
      "\u001b[34m#metrics {\"StartTime\": 1754988722.240729, \"EndTime\": 1754988722.2407389, \"Dimensions\": {\"Algorithm\": \"Linear Learner\", \"Host\": \"algo-1\", \"Operation\": \"training\", \"epoch\": 0, \"model\": 21}, \"Metrics\": {\"train_absolute_loss_objective\": {\"sum\": 1.0095030069351196, \"count\": 1, \"min\": 1.0095030069351196, \"max\": 1.0095030069351196}}}\u001b[0m\n",
      "\u001b[34m#metrics {\"StartTime\": 1754988722.2407792, \"EndTime\": 1754988722.2407851, \"Dimensions\": {\"Algorithm\": \"Linear Learner\", \"Host\": \"algo-1\", \"Operation\": \"training\", \"epoch\": 0, \"model\": 22}, \"Metrics\": {\"train_absolute_loss_objective\": {\"sum\": 0.9278339743614197, \"count\": 1, \"min\": 0.9278339743614197, \"max\": 0.9278339743614197}}}\u001b[0m\n",
      "\u001b[34m#metrics {\"StartTime\": 1754988722.24082, \"EndTime\": 1754988722.240826, \"Dimensions\": {\"Algorithm\": \"Linear Learner\", \"Host\": \"algo-1\", \"Operation\": \"training\", \"epoch\": 0, \"model\": 23}, \"Metrics\": {\"train_absolute_loss_objective\": {\"sum\": 1.0426002740859985, \"count\": 1, \"min\": 1.0426002740859985, \"max\": 1.0426002740859985}}}\u001b[0m\n",
      "\u001b[34m#metrics {\"StartTime\": 1754988722.2408586, \"EndTime\": 1754988722.240864, \"Dimensions\": {\"Algorithm\": \"Linear Learner\", \"Host\": \"algo-1\", \"Operation\": \"training\", \"epoch\": 0, \"model\": 24}, \"Metrics\": {\"train_absolute_loss_objective\": {\"sum\": 0.9179538488388062, \"count\": 1, \"min\": 0.9179538488388062, \"max\": 0.9179538488388062}}}\u001b[0m\n",
      "\u001b[34m#metrics {\"StartTime\": 1754988722.2408962, \"EndTime\": 1754988722.2409015, \"Dimensions\": {\"Algorithm\": \"Linear Learner\", \"Host\": \"algo-1\", \"Operation\": \"training\", \"epoch\": 0, \"model\": 25}, \"Metrics\": {\"train_absolute_loss_objective\": {\"sum\": 1.0129221677780151, \"count\": 1, \"min\": 1.0129221677780151, \"max\": 1.0129221677780151}}}\u001b[0m\n",
      "\u001b[34m#metrics {\"StartTime\": 1754988722.2409341, \"EndTime\": 1754988722.2409394, \"Dimensions\": {\"Algorithm\": \"Linear Learner\", \"Host\": \"algo-1\", \"Operation\": \"training\", \"epoch\": 0, \"model\": 26}, \"Metrics\": {\"train_absolute_loss_objective\": {\"sum\": 0.9976963996887207, \"count\": 1, \"min\": 0.9976963996887207, \"max\": 0.9976963996887207}}}\u001b[0m\n",
      "\u001b[34m#metrics {\"StartTime\": 1754988722.240971, \"EndTime\": 1754988722.240976, \"Dimensions\": {\"Algorithm\": \"Linear Learner\", \"Host\": \"algo-1\", \"Operation\": \"training\", \"epoch\": 0, \"model\": 27}, \"Metrics\": {\"train_absolute_loss_objective\": {\"sum\": 0.9847468137741089, \"count\": 1, \"min\": 0.9847468137741089, \"max\": 0.9847468137741089}}}\u001b[0m\n",
      "\u001b[34m#metrics {\"StartTime\": 1754988722.2410078, \"EndTime\": 1754988722.2410128, \"Dimensions\": {\"Algorithm\": \"Linear Learner\", \"Host\": \"algo-1\", \"Operation\": \"training\", \"epoch\": 0, \"model\": 28}, \"Metrics\": {\"train_absolute_loss_objective\": {\"sum\": 0.941584050655365, \"count\": 1, \"min\": 0.941584050655365, \"max\": 0.941584050655365}}}\u001b[0m\n",
      "\u001b[34m#metrics {\"StartTime\": 1754988722.2410448, \"EndTime\": 1754988722.2410498, \"Dimensions\": {\"Algorithm\": \"Linear Learner\", \"Host\": \"algo-1\", \"Operation\": \"training\", \"epoch\": 0, \"model\": 29}, \"Metrics\": {\"train_absolute_loss_objective\": {\"sum\": 0.9387743473052979, \"count\": 1, \"min\": 0.9387743473052979, \"max\": 0.9387743473052979}}}\u001b[0m\n",
      "\u001b[34m#metrics {\"StartTime\": 1754988722.2410817, \"EndTime\": 1754988722.2410865, \"Dimensions\": {\"Algorithm\": \"Linear Learner\", \"Host\": \"algo-1\", \"Operation\": \"training\", \"epoch\": 0, \"model\": 30}, \"Metrics\": {\"train_absolute_loss_objective\": {\"sum\": 0.9844290614128113, \"count\": 1, \"min\": 0.9844290614128113, \"max\": 0.9844290614128113}}}\u001b[0m\n",
      "\u001b[34m#metrics {\"StartTime\": 1754988722.2411182, \"EndTime\": 1754988722.241123, \"Dimensions\": {\"Algorithm\": \"Linear Learner\", \"Host\": \"algo-1\", \"Operation\": \"training\", \"epoch\": 0, \"model\": 31}, \"Metrics\": {\"train_absolute_loss_objective\": {\"sum\": 0.9723255634307861, \"count\": 1, \"min\": 0.9723255634307861, \"max\": 0.9723255634307861}}}\u001b[0m\n",
      "\u001b[34m[08/12/2025 08:52:02 INFO 140639117055808] #quality_metric: host=algo-1, epoch=0, train absolute_loss_objective <loss>=0.9749685525894165\u001b[0m\n",
      "\u001b[34m[08/12/2025 08:52:02 INFO 140639117055808] #early_stopping_criteria_metric: host=algo-1, epoch=0, criteria=absolute_loss_objective, value=0.9179538488388062\u001b[0m\n",
      "\u001b[34m[08/12/2025 08:52:02 INFO 140639117055808] Epoch 0: Loss improved. Updating best model\u001b[0m\n",
      "\u001b[34m[08/12/2025 08:52:02 INFO 140639117055808] Saving model for epoch: 0\u001b[0m\n",
      "\u001b[34m[08/12/2025 08:52:02 INFO 140639117055808] Saved checkpoint to \"/tmp/tmpimaxrvci/mx-mod-0000.params\"\u001b[0m\n",
      "\u001b[34m[08/12/2025 08:52:02 INFO 140639117055808] #progress_metric: host=algo-1, completed 16.666666666666668 % of epochs\u001b[0m\n",
      "\u001b[34m#metrics {\"StartTime\": 1754988722.215554, \"EndTime\": 1754988722.248481, \"Dimensions\": {\"Algorithm\": \"Linear Learner\", \"Host\": \"algo-1\", \"Operation\": \"training\", \"epoch\": 0, \"Meta\": \"training_data_iter\"}, \"Metrics\": {\"Total Records Seen\": {\"sum\": 14.0, \"count\": 1, \"min\": 14, \"max\": 14}, \"Total Batches Seen\": {\"sum\": 5.0, \"count\": 1, \"min\": 5, \"max\": 5}, \"Max Records Seen Between Resets\": {\"sum\": 5.0, \"count\": 1, \"min\": 5, \"max\": 5}, \"Max Batches Seen Between Resets\": {\"sum\": 2.0, \"count\": 1, \"min\": 2, \"max\": 2}, \"Reset Count\": {\"sum\": 3.0, \"count\": 1, \"min\": 3, \"max\": 3}, \"Number of Records Since Last Reset\": {\"sum\": 5.0, \"count\": 1, \"min\": 5, \"max\": 5}, \"Number of Batches Since Last Reset\": {\"sum\": 2.0, \"count\": 1, \"min\": 2, \"max\": 2}}}\u001b[0m\n",
      "\u001b[34m[08/12/2025 08:52:02 INFO 140639117055808] #throughput_metric: host=algo-1, train throughput=151.38503295291306 records/second\u001b[0m\n",
      "\u001b[34m[2025-08-12 08:52:02.260] [tensorio] [info] epoch_stats={\"data_pipeline\": \"/opt/ml/input/data/train\", \"epoch\": 6, \"duration\": 11, \"num_examples\": 2, \"num_bytes\": 240}\u001b[0m\n",
      "\u001b[34m#metrics {\"StartTime\": 1754988722.2607536, \"EndTime\": 1754988722.2608128, \"Dimensions\": {\"Algorithm\": \"Linear Learner\", \"Host\": \"algo-1\", \"Operation\": \"training\", \"epoch\": 1, \"model\": 0}, \"Metrics\": {\"train_absolute_loss_objective\": {\"sum\": 0.9700601100921631, \"count\": 1, \"min\": 0.9700601100921631, \"max\": 0.9700601100921631}}}\u001b[0m\n",
      "\u001b[34m#metrics {\"StartTime\": 1754988722.2608738, \"EndTime\": 1754988722.2608845, \"Dimensions\": {\"Algorithm\": \"Linear Learner\", \"Host\": \"algo-1\", \"Operation\": \"training\", \"epoch\": 1, \"model\": 1}, \"Metrics\": {\"train_absolute_loss_objective\": {\"sum\": 0.992658793926239, \"count\": 1, \"min\": 0.992658793926239, \"max\": 0.992658793926239}}}\u001b[0m\n",
      "\u001b[34m#metrics {\"StartTime\": 1754988722.2609582, \"EndTime\": 1754988722.2609699, \"Dimensions\": {\"Algorithm\": \"Linear Learner\", \"Host\": \"algo-1\", \"Operation\": \"training\", \"epoch\": 1, \"model\": 2}, \"Metrics\": {\"train_absolute_loss_objective\": {\"sum\": 0.9727976322174072, \"count\": 1, \"min\": 0.9727976322174072, \"max\": 0.9727976322174072}}}\u001b[0m\n",
      "\u001b[34m#metrics {\"StartTime\": 1754988722.2610266, \"EndTime\": 1754988722.2610364, \"Dimensions\": {\"Algorithm\": \"Linear Learner\", \"Host\": \"algo-1\", \"Operation\": \"training\", \"epoch\": 1, \"model\": 3}, \"Metrics\": {\"train_absolute_loss_objective\": {\"sum\": 0.991503894329071, \"count\": 1, \"min\": 0.991503894329071, \"max\": 0.991503894329071}}}\u001b[0m\n",
      "\u001b[34m#metrics {\"StartTime\": 1754988722.2611084, \"EndTime\": 1754988722.2611184, \"Dimensions\": {\"Algorithm\": \"Linear Learner\", \"Host\": \"algo-1\", \"Operation\": \"training\", \"epoch\": 1, \"model\": 4}, \"Metrics\": {\"train_absolute_loss_objective\": {\"sum\": 0.8250170946121216, \"count\": 1, \"min\": 0.8250170946121216, \"max\": 0.8250170946121216}}}\u001b[0m\n",
      "\u001b[34m#metrics {\"StartTime\": 1754988722.2611732, \"EndTime\": 1754988722.2611835, \"Dimensions\": {\"Algorithm\": \"Linear Learner\", \"Host\": \"algo-1\", \"Operation\": \"training\", \"epoch\": 1, \"model\": 5}, \"Metrics\": {\"train_absolute_loss_objective\": {\"sum\": 0.8373199701309204, \"count\": 1, \"min\": 0.8373199701309204, \"max\": 0.8373199701309204}}}\u001b[0m\n",
      "\u001b[34m#metrics {\"StartTime\": 1754988722.2612188, \"EndTime\": 1754988722.2612264, \"Dimensions\": {\"Algorithm\": \"Linear Learner\", \"Host\": \"algo-1\", \"Operation\": \"training\", \"epoch\": 1, \"model\": 6}, \"Metrics\": {\"train_absolute_loss_objective\": {\"sum\": 0.9424634575843811, \"count\": 1, \"min\": 0.9424634575843811, \"max\": 0.9424634575843811}}}\u001b[0m\n",
      "\u001b[34m#metrics {\"StartTime\": 1754988722.2612848, \"EndTime\": 1754988722.261296, \"Dimensions\": {\"Algorithm\": \"Linear Learner\", \"Host\": \"algo-1\", \"Operation\": \"training\", \"epoch\": 1, \"model\": 7}, \"Metrics\": {\"train_absolute_loss_objective\": {\"sum\": 0.9058563113212585, \"count\": 1, \"min\": 0.9058563113212585, \"max\": 0.9058563113212585}}}\u001b[0m\n",
      "\u001b[34m#metrics {\"StartTime\": 1754988722.2613597, \"EndTime\": 1754988722.2613678, \"Dimensions\": {\"Algorithm\": \"Linear Learner\", \"Host\": \"algo-1\", \"Operation\": \"training\", \"epoch\": 1, \"model\": 8}, \"Metrics\": {\"train_absolute_loss_objective\": {\"sum\": 1.0335116386413574, \"count\": 1, \"min\": 1.0335116386413574, \"max\": 1.0335116386413574}}}\u001b[0m\n",
      "\u001b[34m#metrics {\"StartTime\": 1754988722.2614322, \"EndTime\": 1754988722.2614398, \"Dimensions\": {\"Algorithm\": \"Linear Learner\", \"Host\": \"algo-1\", \"Operation\": \"training\", \"epoch\": 1, \"model\": 9}, \"Metrics\": {\"train_absolute_loss_objective\": {\"sum\": 0.9564048647880554, \"count\": 1, \"min\": 0.9564048647880554, \"max\": 0.9564048647880554}}}\u001b[0m\n",
      "\u001b[34m#metrics {\"StartTime\": 1754988722.2614648, \"EndTime\": 1754988722.2614727, \"Dimensions\": {\"Algorithm\": \"Linear Learner\", \"Host\": \"algo-1\", \"Operation\": \"training\", \"epoch\": 1, \"model\": 10}, \"Metrics\": {\"train_absolute_loss_objective\": {\"sum\": 0.9640087485313416, \"count\": 1, \"min\": 0.9640087485313416, \"max\": 0.9640087485313416}}}\u001b[0m\n",
      "\u001b[34m#metrics {\"StartTime\": 1754988722.2614994, \"EndTime\": 1754988722.2615077, \"Dimensions\": {\"Algorithm\": \"Linear Learner\", \"Host\": \"algo-1\", \"Operation\": \"training\", \"epoch\": 1, \"model\": 11}, \"Metrics\": {\"train_absolute_loss_objective\": {\"sum\": 0.9471943378448486, \"count\": 1, \"min\": 0.9471943378448486, \"max\": 0.9471943378448486}}}\u001b[0m\n",
      "\u001b[34m#metrics {\"StartTime\": 1754988722.2615697, \"EndTime\": 1754988722.2615778, \"Dimensions\": {\"Algorithm\": \"Linear Learner\", \"Host\": \"algo-1\", \"Operation\": \"training\", \"epoch\": 1, \"model\": 12}, \"Metrics\": {\"train_absolute_loss_objective\": {\"sum\": 0.8361947536468506, \"count\": 1, \"min\": 0.8361947536468506, \"max\": 0.8361947536468506}}}\u001b[0m\n",
      "\u001b[34m#metrics {\"StartTime\": 1754988722.2616022, \"EndTime\": 1754988722.2616103, \"Dimensions\": {\"Algorithm\": \"Linear Learner\", \"Host\": \"algo-1\", \"Operation\": \"training\", \"epoch\": 1, \"model\": 13}, \"Metrics\": {\"train_absolute_loss_objective\": {\"sum\": 0.8693856000900269, \"count\": 1, \"min\": 0.8693856000900269, \"max\": 0.8693856000900269}}}\u001b[0m\n",
      "\u001b[34m#metrics {\"StartTime\": 1754988722.2616665, \"EndTime\": 1754988722.261677, \"Dimensions\": {\"Algorithm\": \"Linear Learner\", \"Host\": \"algo-1\", \"Operation\": \"training\", \"epoch\": 1, \"model\": 14}, \"Metrics\": {\"train_absolute_loss_objective\": {\"sum\": 0.8343147039413452, \"count\": 1, \"min\": 0.8343147039413452, \"max\": 0.8343147039413452}}}\u001b[0m\n",
      "\u001b[34m#metrics {\"StartTime\": 1754988722.2617116, \"EndTime\": 1754988722.2617202, \"Dimensions\": {\"Algorithm\": \"Linear Learner\", \"Host\": \"algo-1\", \"Operation\": \"training\", \"epoch\": 1, \"model\": 15}, \"Metrics\": {\"train_absolute_loss_objective\": {\"sum\": 0.8773403763771057, \"count\": 1, \"min\": 0.8773403763771057, \"max\": 0.8773403763771057}}}\u001b[0m\n",
      "\u001b[34m#metrics {\"StartTime\": 1754988722.2617826, \"EndTime\": 1754988722.261794, \"Dimensions\": {\"Algorithm\": \"Linear Learner\", \"Host\": \"algo-1\", \"Operation\": \"training\", \"epoch\": 1, \"model\": 16}, \"Metrics\": {\"train_absolute_loss_objective\": {\"sum\": 0.9290443658828735, \"count\": 1, \"min\": 0.9290443658828735, \"max\": 0.9290443658828735}}}\u001b[0m\n",
      "\u001b[34m#metrics {\"StartTime\": 1754988722.2618287, \"EndTime\": 1754988722.261837, \"Dimensions\": {\"Algorithm\": \"Linear Learner\", \"Host\": \"algo-1\", \"Operation\": \"training\", \"epoch\": 1, \"model\": 17}, \"Metrics\": {\"train_absolute_loss_objective\": {\"sum\": 0.9872612953186035, \"count\": 1, \"min\": 0.9872612953186035, \"max\": 0.9872612953186035}}}\u001b[0m\n",
      "\u001b[34m#metrics {\"StartTime\": 1754988722.2618966, \"EndTime\": 1754988722.2619064, \"Dimensions\": {\"Algorithm\": \"Linear Learner\", \"Host\": \"algo-1\", \"Operation\": \"training\", \"epoch\": 1, \"model\": 18}, \"Metrics\": {\"train_absolute_loss_objective\": {\"sum\": 0.9597868323326111, \"count\": 1, \"min\": 0.9597868323326111, \"max\": 0.9597868323326111}}}\u001b[0m\n",
      "\u001b[34m#metrics {\"StartTime\": 1754988722.2619777, \"EndTime\": 1754988722.2619896, \"Dimensions\": {\"Algorithm\": \"Linear Learner\", \"Host\": \"algo-1\", \"Operation\": \"training\", \"epoch\": 1, \"model\": 19}, \"Metrics\": {\"train_absolute_loss_objective\": {\"sum\": 0.9567179083824158, \"count\": 1, \"min\": 0.9567179083824158, \"max\": 0.9567179083824158}}}\u001b[0m\n",
      "\u001b[34m#metrics {\"StartTime\": 1754988722.2620518, \"EndTime\": 1754988722.262063, \"Dimensions\": {\"Algorithm\": \"Linear Learner\", \"Host\": \"algo-1\", \"Operation\": \"training\", \"epoch\": 1, \"model\": 20}, \"Metrics\": {\"train_absolute_loss_objective\": {\"sum\": 0.8920865654945374, \"count\": 1, \"min\": 0.8920865654945374, \"max\": 0.8920865654945374}}}\u001b[0m\n",
      "\u001b[34m#metrics {\"StartTime\": 1754988722.2620933, \"EndTime\": 1754988722.2621012, \"Dimensions\": {\"Algorithm\": \"Linear Learner\", \"Host\": \"algo-1\", \"Operation\": \"training\", \"epoch\": 1, \"model\": 21}, \"Metrics\": {\"train_absolute_loss_objective\": {\"sum\": 0.9113346338272095, \"count\": 1, \"min\": 0.9113346338272095, \"max\": 0.9113346338272095}}}\u001b[0m\n",
      "\u001b[34m#metrics {\"StartTime\": 1754988722.2621527, \"EndTime\": 1754988722.2621622, \"Dimensions\": {\"Algorithm\": \"Linear Learner\", \"Host\": \"algo-1\", \"Operation\": \"training\", \"epoch\": 1, \"model\": 22}, \"Metrics\": {\"train_absolute_loss_objective\": {\"sum\": 0.8296656608581543, \"count\": 1, \"min\": 0.8296656608581543, \"max\": 0.8296656608581543}}}\u001b[0m\n",
      "\u001b[34m#metrics {\"StartTime\": 1754988722.2621932, \"EndTime\": 1754988722.262202, \"Dimensions\": {\"Algorithm\": \"Linear Learner\", \"Host\": \"algo-1\", \"Operation\": \"training\", \"epoch\": 1, \"model\": 23}, \"Metrics\": {\"train_absolute_loss_objective\": {\"sum\": 0.9444319605827332, \"count\": 1, \"min\": 0.9444319605827332, \"max\": 0.9444319605827332}}}\u001b[0m\n",
      "\u001b[34m#metrics {\"StartTime\": 1754988722.2622528, \"EndTime\": 1754988722.2622619, \"Dimensions\": {\"Algorithm\": \"Linear Learner\", \"Host\": \"algo-1\", \"Operation\": \"training\", \"epoch\": 1, \"model\": 24}, \"Metrics\": {\"train_absolute_loss_objective\": {\"sum\": 0.9228622317314148, \"count\": 1, \"min\": 0.9228622317314148, \"max\": 0.9228622317314148}}}\u001b[0m\n",
      "\u001b[34m#metrics {\"StartTime\": 1754988722.2623563, \"EndTime\": 1754988722.262368, \"Dimensions\": {\"Algorithm\": \"Linear Learner\", \"Host\": \"algo-1\", \"Operation\": \"training\", \"epoch\": 1, \"model\": 25}, \"Metrics\": {\"train_absolute_loss_objective\": {\"sum\": 1.0080137252807617, \"count\": 1, \"min\": 1.0080137252807617, \"max\": 1.0080137252807617}}}\u001b[0m\n",
      "\u001b[34m#metrics {\"StartTime\": 1754988722.2624269, \"EndTime\": 1754988722.2624364, \"Dimensions\": {\"Algorithm\": \"Linear Learner\", \"Host\": \"algo-1\", \"Operation\": \"training\", \"epoch\": 1, \"model\": 26}, \"Metrics\": {\"train_absolute_loss_objective\": {\"sum\": 0.9927879571914673, \"count\": 1, \"min\": 0.9927879571914673, \"max\": 0.9927879571914673}}}\u001b[0m\n",
      "\u001b[34m#metrics {\"StartTime\": 1754988722.2625027, \"EndTime\": 1754988722.262514, \"Dimensions\": {\"Algorithm\": \"Linear Learner\", \"Host\": \"algo-1\", \"Operation\": \"training\", \"epoch\": 1, \"model\": 27}, \"Metrics\": {\"train_absolute_loss_objective\": {\"sum\": 0.9798383712768555, \"count\": 1, \"min\": 0.9798383712768555, \"max\": 0.9798383712768555}}}\u001b[0m\n",
      "\u001b[34m#metrics {\"StartTime\": 1754988722.262581, \"EndTime\": 1754988722.2625918, \"Dimensions\": {\"Algorithm\": \"Linear Learner\", \"Host\": \"algo-1\", \"Operation\": \"training\", \"epoch\": 1, \"model\": 28}, \"Metrics\": {\"train_absolute_loss_objective\": {\"sum\": 1.0397523641586304, \"count\": 1, \"min\": 1.0397523641586304, \"max\": 1.0397523641586304}}}\u001b[0m\n",
      "\u001b[34m#metrics {\"StartTime\": 1754988722.2626212, \"EndTime\": 1754988722.2626286, \"Dimensions\": {\"Algorithm\": \"Linear Learner\", \"Host\": \"algo-1\", \"Operation\": \"training\", \"epoch\": 1, \"model\": 29}, \"Metrics\": {\"train_absolute_loss_objective\": {\"sum\": 1.036942720413208, \"count\": 1, \"min\": 1.036942720413208, \"max\": 1.036942720413208}}}\u001b[0m\n",
      "\u001b[34m#metrics {\"StartTime\": 1754988722.2626612, \"EndTime\": 1754988722.26267, \"Dimensions\": {\"Algorithm\": \"Linear Learner\", \"Host\": \"algo-1\", \"Operation\": \"training\", \"epoch\": 1, \"model\": 30}, \"Metrics\": {\"train_absolute_loss_objective\": {\"sum\": 0.8862607479095459, \"count\": 1, \"min\": 0.8862607479095459, \"max\": 0.8862607479095459}}}\u001b[0m\n",
      "\u001b[34m#metrics {\"StartTime\": 1754988722.2627168, \"EndTime\": 1754988722.2627258, \"Dimensions\": {\"Algorithm\": \"Linear Learner\", \"Host\": \"algo-1\", \"Operation\": \"training\", \"epoch\": 1, \"model\": 31}, \"Metrics\": {\"train_absolute_loss_objective\": {\"sum\": 0.8741582036018372, \"count\": 1, \"min\": 0.8741582036018372, \"max\": 0.8741582036018372}}}\u001b[0m\n",
      "\u001b[34m[08/12/2025 08:52:02 INFO 140639117055808] #quality_metric: host=algo-1, epoch=1, train absolute_loss_objective <loss>=0.9700601100921631\u001b[0m\n",
      "\u001b[34m[08/12/2025 08:52:02 INFO 140639117055808] #early_stopping_criteria_metric: host=algo-1, epoch=1, criteria=absolute_loss_objective, value=0.8250170946121216\u001b[0m\n",
      "\u001b[34m[08/12/2025 08:52:02 INFO 140639117055808] Epoch 1: Loss improved. Updating best model\u001b[0m\n",
      "\u001b[34m[08/12/2025 08:52:02 INFO 140639117055808] Saving model for epoch: 1\u001b[0m\n",
      "\u001b[34m[08/12/2025 08:52:02 INFO 140639117055808] Saved checkpoint to \"/tmp/tmprgddrzq2/mx-mod-0000.params\"\u001b[0m\n",
      "\u001b[34m[08/12/2025 08:52:02 INFO 140639117055808] #progress_metric: host=algo-1, completed 33.333333333333336 % of epochs\u001b[0m\n",
      "\u001b[34m#metrics {\"StartTime\": 1754988722.2487514, \"EndTime\": 1754988722.2687802, \"Dimensions\": {\"Algorithm\": \"Linear Learner\", \"Host\": \"algo-1\", \"Operation\": \"training\", \"epoch\": 1, \"Meta\": \"training_data_iter\"}, \"Metrics\": {\"Total Records Seen\": {\"sum\": 19.0, \"count\": 1, \"min\": 19, \"max\": 19}, \"Total Batches Seen\": {\"sum\": 7.0, \"count\": 1, \"min\": 7, \"max\": 7}, \"Max Records Seen Between Resets\": {\"sum\": 5.0, \"count\": 1, \"min\": 5, \"max\": 5}, \"Max Batches Seen Between Resets\": {\"sum\": 2.0, \"count\": 1, \"min\": 2, \"max\": 2}, \"Reset Count\": {\"sum\": 4.0, \"count\": 1, \"min\": 4, \"max\": 4}, \"Number of Records Since Last Reset\": {\"sum\": 5.0, \"count\": 1, \"min\": 5, \"max\": 5}, \"Number of Batches Since Last Reset\": {\"sum\": 2.0, \"count\": 1, \"min\": 2, \"max\": 2}}}\u001b[0m\n",
      "\u001b[34m[08/12/2025 08:52:02 INFO 140639117055808] #throughput_metric: host=algo-1, train throughput=248.15136491107666 records/second\u001b[0m\n",
      "\u001b[34m[2025-08-12 08:52:02.280] [tensorio] [info] epoch_stats={\"data_pipeline\": \"/opt/ml/input/data/train\", \"epoch\": 8, \"duration\": 11, \"num_examples\": 2, \"num_bytes\": 240}\u001b[0m\n",
      "\u001b[34m#metrics {\"StartTime\": 1754988722.2807996, \"EndTime\": 1754988722.2808626, \"Dimensions\": {\"Algorithm\": \"Linear Learner\", \"Host\": \"algo-1\", \"Operation\": \"training\", \"epoch\": 2, \"model\": 0}, \"Metrics\": {\"train_absolute_loss_objective\": {\"sum\": 0.9651517271995544, \"count\": 1, \"min\": 0.9651517271995544, \"max\": 0.9651517271995544}}}\u001b[0m\n",
      "\u001b[34m#metrics {\"StartTime\": 1754988722.2809615, \"EndTime\": 1754988722.280976, \"Dimensions\": {\"Algorithm\": \"Linear Learner\", \"Host\": \"algo-1\", \"Operation\": \"training\", \"epoch\": 2, \"model\": 1}, \"Metrics\": {\"train_absolute_loss_objective\": {\"sum\": 0.9877503514289856, \"count\": 1, \"min\": 0.9877503514289856, \"max\": 0.9877503514289856}}}\u001b[0m\n",
      "\u001b[34m#metrics {\"StartTime\": 1754988722.281013, \"EndTime\": 1754988722.2810225, \"Dimensions\": {\"Algorithm\": \"Linear Learner\", \"Host\": \"algo-1\", \"Operation\": \"training\", \"epoch\": 2, \"model\": 2}, \"Metrics\": {\"train_absolute_loss_objective\": {\"sum\": 0.9678891897201538, \"count\": 1, \"min\": 0.9678891897201538, \"max\": 0.9678891897201538}}}\u001b[0m\n",
      "\u001b[34m#metrics {\"StartTime\": 1754988722.2810504, \"EndTime\": 1754988722.2810593, \"Dimensions\": {\"Algorithm\": \"Linear Learner\", \"Host\": \"algo-1\", \"Operation\": \"training\", \"epoch\": 2, \"model\": 3}, \"Metrics\": {\"train_absolute_loss_objective\": {\"sum\": 0.9865955114364624, \"count\": 1, \"min\": 0.9865955114364624, \"max\": 0.9865955114364624}}}\u001b[0m\n",
      "\u001b[34m#metrics {\"StartTime\": 1754988722.2810872, \"EndTime\": 1754988722.2810955, \"Dimensions\": {\"Algorithm\": \"Linear Learner\", \"Host\": \"algo-1\", \"Operation\": \"training\", \"epoch\": 2, \"model\": 4}, \"Metrics\": {\"train_absolute_loss_objective\": {\"sum\": 0.7268487811088562, \"count\": 1, \"min\": 0.7268487811088562, \"max\": 0.7268487811088562}}}\u001b[0m\n",
      "\u001b[34m#metrics {\"StartTime\": 1754988722.2811267, \"EndTime\": 1754988722.281135, \"Dimensions\": {\"Algorithm\": \"Linear Learner\", \"Host\": \"algo-1\", \"Operation\": \"training\", \"epoch\": 2, \"model\": 5}, \"Metrics\": {\"train_absolute_loss_objective\": {\"sum\": 0.7391515970230103, \"count\": 1, \"min\": 0.7391515970230103, \"max\": 0.7391515970230103}}}\u001b[0m\n",
      "\u001b[34m#metrics {\"StartTime\": 1754988722.2811792, \"EndTime\": 1754988722.2811913, \"Dimensions\": {\"Algorithm\": \"Linear Learner\", \"Host\": \"algo-1\", \"Operation\": \"training\", \"epoch\": 2, \"model\": 6}, \"Metrics\": {\"train_absolute_loss_objective\": {\"sum\": 0.8442951440811157, \"count\": 1, \"min\": 0.8442951440811157, \"max\": 0.8442951440811157}}}\u001b[0m\n",
      "\u001b[34m#metrics {\"StartTime\": 1754988722.2812471, \"EndTime\": 1754988722.2813792, \"Dimensions\": {\"Algorithm\": \"Linear Learner\", \"Host\": \"algo-1\", \"Operation\": \"training\", \"epoch\": 2, \"model\": 7}, \"Metrics\": {\"train_absolute_loss_objective\": {\"sum\": 0.8076879978179932, \"count\": 1, \"min\": 0.8076879978179932, \"max\": 0.8076879978179932}}}\u001b[0m\n",
      "\u001b[34m#metrics {\"StartTime\": 1754988722.281419, \"EndTime\": 1754988722.2814262, \"Dimensions\": {\"Algorithm\": \"Linear Learner\", \"Host\": \"algo-1\", \"Operation\": \"training\", \"epoch\": 2, \"model\": 8}, \"Metrics\": {\"train_absolute_loss_objective\": {\"sum\": 1.028603196144104, \"count\": 1, \"min\": 1.028603196144104, \"max\": 1.028603196144104}}}\u001b[0m\n",
      "\u001b[34m#metrics {\"StartTime\": 1754988722.2814567, \"EndTime\": 1754988722.2814643, \"Dimensions\": {\"Algorithm\": \"Linear Learner\", \"Host\": \"algo-1\", \"Operation\": \"training\", \"epoch\": 2, \"model\": 9}, \"Metrics\": {\"train_absolute_loss_objective\": {\"sum\": 0.951496422290802, \"count\": 1, \"min\": 0.951496422290802, \"max\": 0.951496422290802}}}\u001b[0m\n",
      "\u001b[34m#metrics {\"StartTime\": 1754988722.2815187, \"EndTime\": 1754988722.2815278, \"Dimensions\": {\"Algorithm\": \"Linear Learner\", \"Host\": \"algo-1\", \"Operation\": \"training\", \"epoch\": 2, \"model\": 10}, \"Metrics\": {\"train_absolute_loss_objective\": {\"sum\": 0.9591003060340881, \"count\": 1, \"min\": 0.9591003060340881, \"max\": 0.9591003060340881}}}\u001b[0m\n",
      "\u001b[34m#metrics {\"StartTime\": 1754988722.2815638, \"EndTime\": 1754988722.2815716, \"Dimensions\": {\"Algorithm\": \"Linear Learner\", \"Host\": \"algo-1\", \"Operation\": \"training\", \"epoch\": 2, \"model\": 11}, \"Metrics\": {\"train_absolute_loss_objective\": {\"sum\": 0.9422858953475952, \"count\": 1, \"min\": 0.9422858953475952, \"max\": 0.9422858953475952}}}\u001b[0m\n",
      "\u001b[34m#metrics {\"StartTime\": 1754988722.281604, \"EndTime\": 1754988722.2816117, \"Dimensions\": {\"Algorithm\": \"Linear Learner\", \"Host\": \"algo-1\", \"Operation\": \"training\", \"epoch\": 2, \"model\": 12}, \"Metrics\": {\"train_absolute_loss_objective\": {\"sum\": 0.7380290627479553, \"count\": 1, \"min\": 0.7380290627479553, \"max\": 0.7380290627479553}}}\u001b[0m\n",
      "\u001b[34m#metrics {\"StartTime\": 1754988722.281639, \"EndTime\": 1754988722.2816474, \"Dimensions\": {\"Algorithm\": \"Linear Learner\", \"Host\": \"algo-1\", \"Operation\": \"training\", \"epoch\": 2, \"model\": 13}, \"Metrics\": {\"train_absolute_loss_objective\": {\"sum\": 0.7712198495864868, \"count\": 1, \"min\": 0.7712198495864868, \"max\": 0.7712198495864868}}}\u001b[0m\n",
      "\u001b[34m#metrics {\"StartTime\": 1754988722.281677, \"EndTime\": 1754988722.2816846, \"Dimensions\": {\"Algorithm\": \"Linear Learner\", \"Host\": \"algo-1\", \"Operation\": \"training\", \"epoch\": 2, \"model\": 14}, \"Metrics\": {\"train_absolute_loss_objective\": {\"sum\": 0.7361489534378052, \"count\": 1, \"min\": 0.7361489534378052, \"max\": 0.7361489534378052}}}\u001b[0m\n",
      "\u001b[34m#metrics {\"StartTime\": 1754988722.281711, \"EndTime\": 1754988722.2817187, \"Dimensions\": {\"Algorithm\": \"Linear Learner\", \"Host\": \"algo-1\", \"Operation\": \"training\", \"epoch\": 2, \"model\": 15}, \"Metrics\": {\"train_absolute_loss_objective\": {\"sum\": 0.7791746258735657, \"count\": 1, \"min\": 0.7791746258735657, \"max\": 0.7791746258735657}}}\u001b[0m\n",
      "\u001b[34m#metrics {\"StartTime\": 1754988722.281746, \"EndTime\": 1754988722.2817535, \"Dimensions\": {\"Algorithm\": \"Linear Learner\", \"Host\": \"algo-1\", \"Operation\": \"training\", \"epoch\": 2, \"model\": 16}, \"Metrics\": {\"train_absolute_loss_objective\": {\"sum\": 0.9241366386413574, \"count\": 1, \"min\": 0.9241366386413574, \"max\": 0.9241366386413574}}}\u001b[0m\n",
      "\u001b[34m#metrics {\"StartTime\": 1754988722.2817845, \"EndTime\": 1754988722.2817924, \"Dimensions\": {\"Algorithm\": \"Linear Learner\", \"Host\": \"algo-1\", \"Operation\": \"training\", \"epoch\": 2, \"model\": 17}, \"Metrics\": {\"train_absolute_loss_objective\": {\"sum\": 0.9823535680770874, \"count\": 1, \"min\": 0.9823535680770874, \"max\": 0.9823535680770874}}}\u001b[0m\n",
      "\u001b[34m#metrics {\"StartTime\": 1754988722.2818182, \"EndTime\": 1754988722.2818263, \"Dimensions\": {\"Algorithm\": \"Linear Learner\", \"Host\": \"algo-1\", \"Operation\": \"training\", \"epoch\": 2, \"model\": 18}, \"Metrics\": {\"train_absolute_loss_objective\": {\"sum\": 0.954879105091095, \"count\": 1, \"min\": 0.954879105091095, \"max\": 0.954879105091095}}}\u001b[0m\n",
      "\u001b[34m#metrics {\"StartTime\": 1754988722.2818527, \"EndTime\": 1754988722.2818604, \"Dimensions\": {\"Algorithm\": \"Linear Learner\", \"Host\": \"algo-1\", \"Operation\": \"training\", \"epoch\": 2, \"model\": 19}, \"Metrics\": {\"train_absolute_loss_objective\": {\"sum\": 0.9518101215362549, \"count\": 1, \"min\": 0.9518101215362549, \"max\": 0.9518101215362549}}}\u001b[0m\n",
      "\u001b[34m#metrics {\"StartTime\": 1754988722.2818868, \"EndTime\": 1754988722.2818942, \"Dimensions\": {\"Algorithm\": \"Linear Learner\", \"Host\": \"algo-1\", \"Operation\": \"training\", \"epoch\": 2, \"model\": 20}, \"Metrics\": {\"train_absolute_loss_objective\": {\"sum\": 0.7943283915519714, \"count\": 1, \"min\": 0.7943283915519714, \"max\": 0.7943283915519714}}}\u001b[0m\n",
      "\u001b[34m#metrics {\"StartTime\": 1754988722.2819192, \"EndTime\": 1754988722.281927, \"Dimensions\": {\"Algorithm\": \"Linear Learner\", \"Host\": \"algo-1\", \"Operation\": \"training\", \"epoch\": 2, \"model\": 21}, \"Metrics\": {\"train_absolute_loss_objective\": {\"sum\": 0.8135654330253601, \"count\": 1, \"min\": 0.8135654330253601, \"max\": 0.8135654330253601}}}\u001b[0m\n",
      "\u001b[34m#metrics {\"StartTime\": 1754988722.2819648, \"EndTime\": 1754988722.2819734, \"Dimensions\": {\"Algorithm\": \"Linear Learner\", \"Host\": \"algo-1\", \"Operation\": \"training\", \"epoch\": 2, \"model\": 22}, \"Metrics\": {\"train_absolute_loss_objective\": {\"sum\": 0.7319478988647461, \"count\": 1, \"min\": 0.7319478988647461, \"max\": 0.7319478988647461}}}\u001b[0m\n",
      "\u001b[34m#metrics {\"StartTime\": 1754988722.2819996, \"EndTime\": 1754988722.2820075, \"Dimensions\": {\"Algorithm\": \"Linear Learner\", \"Host\": \"algo-1\", \"Operation\": \"training\", \"epoch\": 2, \"model\": 23}, \"Metrics\": {\"train_absolute_loss_objective\": {\"sum\": 0.8466448187828064, \"count\": 1, \"min\": 0.8466448187828064, \"max\": 0.8466448187828064}}}\u001b[0m\n",
      "\u001b[34m#metrics {\"StartTime\": 1754988722.2820334, \"EndTime\": 1754988722.282041, \"Dimensions\": {\"Algorithm\": \"Linear Learner\", \"Host\": \"algo-1\", \"Operation\": \"training\", \"epoch\": 2, \"model\": 24}, \"Metrics\": {\"train_absolute_loss_objective\": {\"sum\": 0.9277529716491699, \"count\": 1, \"min\": 0.9277529716491699, \"max\": 0.9277529716491699}}}\u001b[0m\n",
      "\u001b[34m#metrics {\"StartTime\": 1754988722.282067, \"EndTime\": 1754988722.2820752, \"Dimensions\": {\"Algorithm\": \"Linear Learner\", \"Host\": \"algo-1\", \"Operation\": \"training\", \"epoch\": 2, \"model\": 25}, \"Metrics\": {\"train_absolute_loss_objective\": {\"sum\": 1.003131628036499, \"count\": 1, \"min\": 1.003131628036499, \"max\": 1.003131628036499}}}\u001b[0m\n",
      "\u001b[34m#metrics {\"StartTime\": 1754988722.2821076, \"EndTime\": 1754988722.2821157, \"Dimensions\": {\"Algorithm\": \"Linear Learner\", \"Host\": \"algo-1\", \"Operation\": \"training\", \"epoch\": 2, \"model\": 26}, \"Metrics\": {\"train_absolute_loss_objective\": {\"sum\": 0.9879337549209595, \"count\": 1, \"min\": 0.9879337549209595, \"max\": 0.9879337549209595}}}\u001b[0m\n",
      "\u001b[34m#metrics {\"StartTime\": 1754988722.2821703, \"EndTime\": 1754988722.2821796, \"Dimensions\": {\"Algorithm\": \"Linear Learner\", \"Host\": \"algo-1\", \"Operation\": \"training\", \"epoch\": 2, \"model\": 27}, \"Metrics\": {\"train_absolute_loss_objective\": {\"sum\": 0.9751244783401489, \"count\": 1, \"min\": 0.9751244783401489, \"max\": 0.9751244783401489}}}\u001b[0m\n",
      "\u001b[34m#metrics {\"StartTime\": 1754988722.2822397, \"EndTime\": 1754988722.2822492, \"Dimensions\": {\"Algorithm\": \"Linear Learner\", \"Host\": \"algo-1\", \"Operation\": \"training\", \"epoch\": 2, \"model\": 28}, \"Metrics\": {\"train_absolute_loss_objective\": {\"sum\": 1.0000965595245361, \"count\": 1, \"min\": 1.0000965595245361, \"max\": 1.0000965595245361}}}\u001b[0m\n",
      "\u001b[34m#metrics {\"StartTime\": 1754988722.2823315, \"EndTime\": 1754988722.2823455, \"Dimensions\": {\"Algorithm\": \"Linear Learner\", \"Host\": \"algo-1\", \"Operation\": \"training\", \"epoch\": 2, \"model\": 29}, \"Metrics\": {\"train_absolute_loss_objective\": {\"sum\": 1.0019186735153198, \"count\": 1, \"min\": 1.0019186735153198, \"max\": 1.0019186735153198}}}\u001b[0m\n",
      "\u001b[34m#metrics {\"StartTime\": 1754988722.2824063, \"EndTime\": 1754988722.2824183, \"Dimensions\": {\"Algorithm\": \"Linear Learner\", \"Host\": \"algo-1\", \"Operation\": \"training\", \"epoch\": 2, \"model\": 30}, \"Metrics\": {\"train_absolute_loss_objective\": {\"sum\": 0.949164092540741, \"count\": 1, \"min\": 0.949164092540741, \"max\": 0.949164092540741}}}\u001b[0m\n",
      "\u001b[34m#metrics {\"StartTime\": 1754988722.2824485, \"EndTime\": 1754988722.2824564, \"Dimensions\": {\"Algorithm\": \"Linear Learner\", \"Host\": \"algo-1\", \"Operation\": \"training\", \"epoch\": 2, \"model\": 31}, \"Metrics\": {\"train_absolute_loss_objective\": {\"sum\": 0.9470170736312866, \"count\": 1, \"min\": 0.9470170736312866, \"max\": 0.9470170736312866}}}\u001b[0m\n",
      "\u001b[34m[08/12/2025 08:52:02 INFO 140639117055808] #quality_metric: host=algo-1, epoch=2, train absolute_loss_objective <loss>=0.9651517271995544\u001b[0m\n",
      "\u001b[34m[08/12/2025 08:52:02 INFO 140639117055808] #early_stopping_criteria_metric: host=algo-1, epoch=2, criteria=absolute_loss_objective, value=0.7268487811088562\u001b[0m\n",
      "\u001b[34m[08/12/2025 08:52:02 INFO 140639117055808] Epoch 2: Loss improved. Updating best model\u001b[0m\n",
      "\u001b[34m[08/12/2025 08:52:02 INFO 140639117055808] Saving model for epoch: 2\u001b[0m\n",
      "\u001b[34m[08/12/2025 08:52:02 INFO 140639117055808] Saved checkpoint to \"/tmp/tmpy11pk_ow/mx-mod-0000.params\"\u001b[0m\n",
      "\u001b[34m[08/12/2025 08:52:02 INFO 140639117055808] #progress_metric: host=algo-1, completed 50.0 % of epochs\u001b[0m\n",
      "\u001b[34m#metrics {\"StartTime\": 1754988722.2690454, \"EndTime\": 1754988722.288955, \"Dimensions\": {\"Algorithm\": \"Linear Learner\", \"Host\": \"algo-1\", \"Operation\": \"training\", \"epoch\": 2, \"Meta\": \"training_data_iter\"}, \"Metrics\": {\"Total Records Seen\": {\"sum\": 24.0, \"count\": 1, \"min\": 24, \"max\": 24}, \"Total Batches Seen\": {\"sum\": 9.0, \"count\": 1, \"min\": 9, \"max\": 9}, \"Max Records Seen Between Resets\": {\"sum\": 5.0, \"count\": 1, \"min\": 5, \"max\": 5}, \"Max Batches Seen Between Resets\": {\"sum\": 2.0, \"count\": 1, \"min\": 2, \"max\": 2}, \"Reset Count\": {\"sum\": 5.0, \"count\": 1, \"min\": 5, \"max\": 5}, \"Number of Records Since Last Reset\": {\"sum\": 5.0, \"count\": 1, \"min\": 5, \"max\": 5}, \"Number of Batches Since Last Reset\": {\"sum\": 2.0, \"count\": 1, \"min\": 2, \"max\": 2}}}\u001b[0m\n",
      "\u001b[34m[08/12/2025 08:52:02 INFO 140639117055808] #throughput_metric: host=algo-1, train throughput=249.09751751989546 records/second\u001b[0m\n",
      "\u001b[34m[2025-08-12 08:52:02.303] [tensorio] [info] epoch_stats={\"data_pipeline\": \"/opt/ml/input/data/train\", \"epoch\": 10, \"duration\": 14, \"num_examples\": 2, \"num_bytes\": 240}\u001b[0m\n",
      "\u001b[34m#metrics {\"StartTime\": 1754988722.3034475, \"EndTime\": 1754988722.3035133, \"Dimensions\": {\"Algorithm\": \"Linear Learner\", \"Host\": \"algo-1\", \"Operation\": \"training\", \"epoch\": 3, \"model\": 0}, \"Metrics\": {\"train_absolute_loss_objective\": {\"sum\": 0.960243284702301, \"count\": 1, \"min\": 0.960243284702301, \"max\": 0.960243284702301}}}\u001b[0m\n",
      "\u001b[34m#metrics {\"StartTime\": 1754988722.3036492, \"EndTime\": 1754988722.3036687, \"Dimensions\": {\"Algorithm\": \"Linear Learner\", \"Host\": \"algo-1\", \"Operation\": \"training\", \"epoch\": 3, \"model\": 1}, \"Metrics\": {\"train_absolute_loss_objective\": {\"sum\": 0.982841968536377, \"count\": 1, \"min\": 0.982841968536377, \"max\": 0.982841968536377}}}\u001b[0m\n",
      "\u001b[34m#metrics {\"StartTime\": 1754988722.3037405, \"EndTime\": 1754988722.3037512, \"Dimensions\": {\"Algorithm\": \"Linear Learner\", \"Host\": \"algo-1\", \"Operation\": \"training\", \"epoch\": 3, \"model\": 2}, \"Metrics\": {\"train_absolute_loss_objective\": {\"sum\": 0.9629808068275452, \"count\": 1, \"min\": 0.9629808068275452, \"max\": 0.9629808068275452}}}\u001b[0m\n",
      "\u001b[34m#metrics {\"StartTime\": 1754988722.3038125, \"EndTime\": 1754988722.3038235, \"Dimensions\": {\"Algorithm\": \"Linear Learner\", \"Host\": \"algo-1\", \"Operation\": \"training\", \"epoch\": 3, \"model\": 3}, \"Metrics\": {\"train_absolute_loss_objective\": {\"sum\": 0.981687068939209, \"count\": 1, \"min\": 0.981687068939209, \"max\": 0.981687068939209}}}\u001b[0m\n",
      "\u001b[34m#metrics {\"StartTime\": 1754988722.3038592, \"EndTime\": 1754988722.303868, \"Dimensions\": {\"Algorithm\": \"Linear Learner\", \"Host\": \"algo-1\", \"Operation\": \"training\", \"epoch\": 3, \"model\": 4}, \"Metrics\": {\"train_absolute_loss_objective\": {\"sum\": 0.6286804676055908, \"count\": 1, \"min\": 0.6286804676055908, \"max\": 0.6286804676055908}}}\u001b[0m\n",
      "\u001b[34m#metrics {\"StartTime\": 1754988722.303896, \"EndTime\": 1754988722.303904, \"Dimensions\": {\"Algorithm\": \"Linear Learner\", \"Host\": \"algo-1\", \"Operation\": \"training\", \"epoch\": 3, \"model\": 5}, \"Metrics\": {\"train_absolute_loss_objective\": {\"sum\": 0.6409832835197449, \"count\": 1, \"min\": 0.6409832835197449, \"max\": 0.6409832835197449}}}\u001b[0m\n",
      "\u001b[34m#metrics {\"StartTime\": 1754988722.3039362, \"EndTime\": 1754988722.3039443, \"Dimensions\": {\"Algorithm\": \"Linear Learner\", \"Host\": \"algo-1\", \"Operation\": \"training\", \"epoch\": 3, \"model\": 6}, \"Metrics\": {\"train_absolute_loss_objective\": {\"sum\": 0.7461268305778503, \"count\": 1, \"min\": 0.7461268305778503, \"max\": 0.7461268305778503}}}\u001b[0m\n",
      "\u001b[34m#metrics {\"StartTime\": 1754988722.3040197, \"EndTime\": 1754988722.304033, \"Dimensions\": {\"Algorithm\": \"Linear Learner\", \"Host\": \"algo-1\", \"Operation\": \"training\", \"epoch\": 3, \"model\": 7}, \"Metrics\": {\"train_absolute_loss_objective\": {\"sum\": 0.7095196843147278, \"count\": 1, \"min\": 0.7095196843147278, \"max\": 0.7095196843147278}}}\u001b[0m\n",
      "\u001b[34m#metrics {\"StartTime\": 1754988722.304072, \"EndTime\": 1754988722.3040812, \"Dimensions\": {\"Algorithm\": \"Linear Learner\", \"Host\": \"algo-1\", \"Operation\": \"training\", \"epoch\": 3, \"model\": 8}, \"Metrics\": {\"train_absolute_loss_objective\": {\"sum\": 1.0236947536468506, \"count\": 1, \"min\": 1.0236947536468506, \"max\": 1.0236947536468506}}}\u001b[0m\n",
      "\u001b[34m#metrics {\"StartTime\": 1754988722.3041143, \"EndTime\": 1754988722.3041232, \"Dimensions\": {\"Algorithm\": \"Linear Learner\", \"Host\": \"algo-1\", \"Operation\": \"training\", \"epoch\": 3, \"model\": 9}, \"Metrics\": {\"train_absolute_loss_objective\": {\"sum\": 0.9465880393981934, \"count\": 1, \"min\": 0.9465880393981934, \"max\": 0.9465880393981934}}}\u001b[0m\n",
      "\u001b[34m#metrics {\"StartTime\": 1754988722.3042, \"EndTime\": 1754988722.3042126, \"Dimensions\": {\"Algorithm\": \"Linear Learner\", \"Host\": \"algo-1\", \"Operation\": \"training\", \"epoch\": 3, \"model\": 10}, \"Metrics\": {\"train_absolute_loss_objective\": {\"sum\": 0.9541919231414795, \"count\": 1, \"min\": 0.9541919231414795, \"max\": 0.9541919231414795}}}\u001b[0m\n",
      "\u001b[34m#metrics {\"StartTime\": 1754988722.3042545, \"EndTime\": 1754988722.3042634, \"Dimensions\": {\"Algorithm\": \"Linear Learner\", \"Host\": \"algo-1\", \"Operation\": \"training\", \"epoch\": 3, \"model\": 11}, \"Metrics\": {\"train_absolute_loss_objective\": {\"sum\": 0.9373774528503418, \"count\": 1, \"min\": 0.9373774528503418, \"max\": 0.9373774528503418}}}\u001b[0m\n",
      "\u001b[34m#metrics {\"StartTime\": 1754988722.3042915, \"EndTime\": 1754988722.3042998, \"Dimensions\": {\"Algorithm\": \"Linear Learner\", \"Host\": \"algo-1\", \"Operation\": \"training\", \"epoch\": 3, \"model\": 12}, \"Metrics\": {\"train_absolute_loss_objective\": {\"sum\": 0.6398677229881287, \"count\": 1, \"min\": 0.6398677229881287, \"max\": 0.6398677229881287}}}\u001b[0m\n",
      "\u001b[34m#metrics {\"StartTime\": 1754988722.3043737, \"EndTime\": 1754988722.3043864, \"Dimensions\": {\"Algorithm\": \"Linear Learner\", \"Host\": \"algo-1\", \"Operation\": \"training\", \"epoch\": 3, \"model\": 13}, \"Metrics\": {\"train_absolute_loss_objective\": {\"sum\": 0.6730585098266602, \"count\": 1, \"min\": 0.6730585098266602, \"max\": 0.6730585098266602}}}\u001b[0m\n",
      "\u001b[34m#metrics {\"StartTime\": 1754988722.3044271, \"EndTime\": 1754988722.3044372, \"Dimensions\": {\"Algorithm\": \"Linear Learner\", \"Host\": \"algo-1\", \"Operation\": \"training\", \"epoch\": 3, \"model\": 14}, \"Metrics\": {\"train_absolute_loss_objective\": {\"sum\": 0.6379876136779785, \"count\": 1, \"min\": 0.6379876136779785, \"max\": 0.6379876136779785}}}\u001b[0m\n",
      "\u001b[34m#metrics {\"StartTime\": 1754988722.3044975, \"EndTime\": 1754988722.3045077, \"Dimensions\": {\"Algorithm\": \"Linear Learner\", \"Host\": \"algo-1\", \"Operation\": \"training\", \"epoch\": 3, \"model\": 15}, \"Metrics\": {\"train_absolute_loss_objective\": {\"sum\": 0.681013286113739, \"count\": 1, \"min\": 0.681013286113739, \"max\": 0.681013286113739}}}\u001b[0m\n",
      "\u001b[34m#metrics {\"StartTime\": 1754988722.3045433, \"EndTime\": 1754988722.304553, \"Dimensions\": {\"Algorithm\": \"Linear Learner\", \"Host\": \"algo-1\", \"Operation\": \"training\", \"epoch\": 3, \"model\": 16}, \"Metrics\": {\"train_absolute_loss_objective\": {\"sum\": 0.9192301034927368, \"count\": 1, \"min\": 0.9192301034927368, \"max\": 0.9192301034927368}}}\u001b[0m\n",
      "\u001b[34m#metrics {\"StartTime\": 1754988722.304581, \"EndTime\": 1754988722.3045886, \"Dimensions\": {\"Algorithm\": \"Linear Learner\", \"Host\": \"algo-1\", \"Operation\": \"training\", \"epoch\": 3, \"model\": 17}, \"Metrics\": {\"train_absolute_loss_objective\": {\"sum\": 0.9774469137191772, \"count\": 1, \"min\": 0.9774469137191772, \"max\": 0.9774469137191772}}}\u001b[0m\n",
      "\u001b[34m#metrics {\"StartTime\": 1754988722.3046222, \"EndTime\": 1754988722.3046308, \"Dimensions\": {\"Algorithm\": \"Linear Learner\", \"Host\": \"algo-1\", \"Operation\": \"training\", \"epoch\": 3, \"model\": 18}, \"Metrics\": {\"train_absolute_loss_objective\": {\"sum\": 0.9499725103378296, \"count\": 1, \"min\": 0.9499725103378296, \"max\": 0.9499725103378296}}}\u001b[0m\n",
      "\u001b[34m#metrics {\"StartTime\": 1754988722.304709, \"EndTime\": 1754988722.3047216, \"Dimensions\": {\"Algorithm\": \"Linear Learner\", \"Host\": \"algo-1\", \"Operation\": \"training\", \"epoch\": 3, \"model\": 19}, \"Metrics\": {\"train_absolute_loss_objective\": {\"sum\": 0.9469035267829895, \"count\": 1, \"min\": 0.9469035267829895, \"max\": 0.9469035267829895}}}\u001b[0m\n",
      "\u001b[34m#metrics {\"StartTime\": 1754988722.3047645, \"EndTime\": 1754988722.3047738, \"Dimensions\": {\"Algorithm\": \"Linear Learner\", \"Host\": \"algo-1\", \"Operation\": \"training\", \"epoch\": 3, \"model\": 20}, \"Metrics\": {\"train_absolute_loss_objective\": {\"sum\": 0.6973292231559753, \"count\": 1, \"min\": 0.6973292231559753, \"max\": 0.6973292231559753}}}\u001b[0m\n",
      "\u001b[34m#metrics {\"StartTime\": 1754988722.3048084, \"EndTime\": 1754988722.3048177, \"Dimensions\": {\"Algorithm\": \"Linear Learner\", \"Host\": \"algo-1\", \"Operation\": \"training\", \"epoch\": 3, \"model\": 21}, \"Metrics\": {\"train_absolute_loss_objective\": {\"sum\": 0.7165327072143555, \"count\": 1, \"min\": 0.7165327072143555, \"max\": 0.7165327072143555}}}\u001b[0m\n",
      "\u001b[34m#metrics {\"StartTime\": 1754988722.3048458, \"EndTime\": 1754988722.3048549, \"Dimensions\": {\"Algorithm\": \"Linear Learner\", \"Host\": \"algo-1\", \"Operation\": \"training\", \"epoch\": 3, \"model\": 22}, \"Metrics\": {\"train_absolute_loss_objective\": {\"sum\": 0.6350709795951843, \"count\": 1, \"min\": 0.6350709795951843, \"max\": 0.6350709795951843}}}\u001b[0m\n",
      "\u001b[34m#metrics {\"StartTime\": 1754988722.3048875, \"EndTime\": 1754988722.3048966, \"Dimensions\": {\"Algorithm\": \"Linear Learner\", \"Host\": \"algo-1\", \"Operation\": \"training\", \"epoch\": 3, \"model\": 23}, \"Metrics\": {\"train_absolute_loss_objective\": {\"sum\": 0.7495586276054382, \"count\": 1, \"min\": 0.7495586276054382, \"max\": 0.7495586276054382}}}\u001b[0m\n",
      "\u001b[34m#metrics {\"StartTime\": 1754988722.3049295, \"EndTime\": 1754988722.3049378, \"Dimensions\": {\"Algorithm\": \"Linear Learner\", \"Host\": \"algo-1\", \"Operation\": \"training\", \"epoch\": 3, \"model\": 24}, \"Metrics\": {\"train_absolute_loss_objective\": {\"sum\": 0.932611346244812, \"count\": 1, \"min\": 0.932611346244812, \"max\": 0.932611346244812}}}\u001b[0m\n",
      "\u001b[34m#metrics {\"StartTime\": 1754988722.3050094, \"EndTime\": 1754988722.3050232, \"Dimensions\": {\"Algorithm\": \"Linear Learner\", \"Host\": \"algo-1\", \"Operation\": \"training\", \"epoch\": 3, \"model\": 25}, \"Metrics\": {\"train_absolute_loss_objective\": {\"sum\": 0.9982993006706238, \"count\": 1, \"min\": 0.9982993006706238, \"max\": 0.9982993006706238}}}\u001b[0m\n",
      "\u001b[34m#metrics {\"StartTime\": 1754988722.3050628, \"EndTime\": 1754988722.3050723, \"Dimensions\": {\"Algorithm\": \"Linear Learner\", \"Host\": \"algo-1\", \"Operation\": \"training\", \"epoch\": 3, \"model\": 26}, \"Metrics\": {\"train_absolute_loss_objective\": {\"sum\": 0.9831920266151428, \"count\": 1, \"min\": 0.9831920266151428, \"max\": 0.9831920266151428}}}\u001b[0m\n",
      "\u001b[34m#metrics {\"StartTime\": 1754988722.305101, \"EndTime\": 1754988722.30511, \"Dimensions\": {\"Algorithm\": \"Linear Learner\", \"Host\": \"algo-1\", \"Operation\": \"training\", \"epoch\": 3, \"model\": 27}, \"Metrics\": {\"train_absolute_loss_objective\": {\"sum\": 0.9709205031394958, \"count\": 1, \"min\": 0.9709205031394958, \"max\": 0.9709205031394958}}}\u001b[0m\n",
      "\u001b[34m#metrics {\"StartTime\": 1754988722.3051434, \"EndTime\": 1754988722.3051515, \"Dimensions\": {\"Algorithm\": \"Linear Learner\", \"Host\": \"algo-1\", \"Operation\": \"training\", \"epoch\": 3, \"model\": 28}, \"Metrics\": {\"train_absolute_loss_objective\": {\"sum\": 0.9492447972297668, \"count\": 1, \"min\": 0.9492447972297668, \"max\": 0.9492447972297668}}}\u001b[0m\n",
      "\u001b[34m#metrics {\"StartTime\": 1754988722.3051856, \"EndTime\": 1754988722.3051944, \"Dimensions\": {\"Algorithm\": \"Linear Learner\", \"Host\": \"algo-1\", \"Operation\": \"training\", \"epoch\": 3, \"model\": 29}, \"Metrics\": {\"train_absolute_loss_objective\": {\"sum\": 0.9530819654464722, \"count\": 1, \"min\": 0.9530819654464722, \"max\": 0.9530819654464722}}}\u001b[0m\n",
      "\u001b[34m#metrics {\"StartTime\": 1754988722.3052638, \"EndTime\": 1754988722.3052769, \"Dimensions\": {\"Algorithm\": \"Linear Learner\", \"Host\": \"algo-1\", \"Operation\": \"training\", \"epoch\": 3, \"model\": 30}, \"Metrics\": {\"train_absolute_loss_objective\": {\"sum\": 1.0121889114379883, \"count\": 1, \"min\": 1.0121889114379883, \"max\": 1.0121889114379883}}}\u001b[0m\n",
      "\u001b[34m#metrics {\"StartTime\": 1754988722.3053155, \"EndTime\": 1754988722.3053246, \"Dimensions\": {\"Algorithm\": \"Linear Learner\", \"Host\": \"algo-1\", \"Operation\": \"training\", \"epoch\": 3, \"model\": 31}, \"Metrics\": {\"train_absolute_loss_objective\": {\"sum\": 1.0171202421188354, \"count\": 1, \"min\": 1.0171202421188354, \"max\": 1.0171202421188354}}}\u001b[0m\n",
      "\u001b[34m[08/12/2025 08:52:02 INFO 140639117055808] #quality_metric: host=algo-1, epoch=3, train absolute_loss_objective <loss>=0.960243284702301\u001b[0m\n",
      "\u001b[34m[08/12/2025 08:52:02 INFO 140639117055808] #early_stopping_criteria_metric: host=algo-1, epoch=3, criteria=absolute_loss_objective, value=0.6286804676055908\u001b[0m\n",
      "\u001b[34m[08/12/2025 08:52:02 INFO 140639117055808] Epoch 3: Loss improved. Updating best model\u001b[0m\n",
      "\u001b[34m[08/12/2025 08:52:02 INFO 140639117055808] Saving model for epoch: 3\u001b[0m\n",
      "\u001b[34m[08/12/2025 08:52:02 INFO 140639117055808] Saved checkpoint to \"/tmp/tmpvsmloqt0/mx-mod-0000.params\"\u001b[0m\n",
      "\u001b[34m[08/12/2025 08:52:02 INFO 140639117055808] #progress_metric: host=algo-1, completed 66.66666666666667 % of epochs\u001b[0m\n",
      "\u001b[34m#metrics {\"StartTime\": 1754988722.2892408, \"EndTime\": 1754988722.3129106, \"Dimensions\": {\"Algorithm\": \"Linear Learner\", \"Host\": \"algo-1\", \"Operation\": \"training\", \"epoch\": 3, \"Meta\": \"training_data_iter\"}, \"Metrics\": {\"Total Records Seen\": {\"sum\": 29.0, \"count\": 1, \"min\": 29, \"max\": 29}, \"Total Batches Seen\": {\"sum\": 11.0, \"count\": 1, \"min\": 11, \"max\": 11}, \"Max Records Seen Between Resets\": {\"sum\": 5.0, \"count\": 1, \"min\": 5, \"max\": 5}, \"Max Batches Seen Between Resets\": {\"sum\": 2.0, \"count\": 1, \"min\": 2, \"max\": 2}, \"Reset Count\": {\"sum\": 6.0, \"count\": 1, \"min\": 6, \"max\": 6}, \"Number of Records Since Last Reset\": {\"sum\": 5.0, \"count\": 1, \"min\": 5, \"max\": 5}, \"Number of Batches Since Last Reset\": {\"sum\": 2.0, \"count\": 1, \"min\": 2, \"max\": 2}}}\u001b[0m\n",
      "\u001b[34m[08/12/2025 08:52:02 INFO 140639117055808] #throughput_metric: host=algo-1, train throughput=209.78233034571062 records/second\u001b[0m\n",
      "\u001b[34m[2025-08-12 08:52:02.330] [tensorio] [info] epoch_stats={\"data_pipeline\": \"/opt/ml/input/data/train\", \"epoch\": 12, \"duration\": 16, \"num_examples\": 2, \"num_bytes\": 240}\u001b[0m\n",
      "\u001b[34m#metrics {\"StartTime\": 1754988722.3306475, \"EndTime\": 1754988722.3307235, \"Dimensions\": {\"Algorithm\": \"Linear Learner\", \"Host\": \"algo-1\", \"Operation\": \"training\", \"epoch\": 4, \"model\": 0}, \"Metrics\": {\"train_absolute_loss_objective\": {\"sum\": 0.9553349018096924, \"count\": 1, \"min\": 0.9553349018096924, \"max\": 0.9553349018096924}}}\u001b[0m\n",
      "\u001b[34m#metrics {\"StartTime\": 1754988722.3307946, \"EndTime\": 1754988722.3308039, \"Dimensions\": {\"Algorithm\": \"Linear Learner\", \"Host\": \"algo-1\", \"Operation\": \"training\", \"epoch\": 4, \"model\": 1}, \"Metrics\": {\"train_absolute_loss_objective\": {\"sum\": 0.9779335260391235, \"count\": 1, \"min\": 0.9779335260391235, \"max\": 0.9779335260391235}}}\u001b[0m\n",
      "\u001b[34m#metrics {\"StartTime\": 1754988722.3308253, \"EndTime\": 1754988722.3308306, \"Dimensions\": {\"Algorithm\": \"Linear Learner\", \"Host\": \"algo-1\", \"Operation\": \"training\", \"epoch\": 4, \"model\": 2}, \"Metrics\": {\"train_absolute_loss_objective\": {\"sum\": 0.9580724239349365, \"count\": 1, \"min\": 0.9580724239349365, \"max\": 0.9580724239349365}}}\u001b[0m\n",
      "\u001b[34m#metrics {\"StartTime\": 1754988722.3308477, \"EndTime\": 1754988722.3308525, \"Dimensions\": {\"Algorithm\": \"Linear Learner\", \"Host\": \"algo-1\", \"Operation\": \"training\", \"epoch\": 4, \"model\": 3}, \"Metrics\": {\"train_absolute_loss_objective\": {\"sum\": 0.9767786860466003, \"count\": 1, \"min\": 0.9767786860466003, \"max\": 0.9767786860466003}}}\u001b[0m\n",
      "\u001b[34m#metrics {\"StartTime\": 1754988722.3308685, \"EndTime\": 1754988722.3308728, \"Dimensions\": {\"Algorithm\": \"Linear Learner\", \"Host\": \"algo-1\", \"Operation\": \"training\", \"epoch\": 4, \"model\": 4}, \"Metrics\": {\"train_absolute_loss_objective\": {\"sum\": 0.530512273311615, \"count\": 1, \"min\": 0.530512273311615, \"max\": 0.530512273311615}}}\u001b[0m\n",
      "\u001b[34m#metrics {\"StartTime\": 1754988722.330888, \"EndTime\": 1754988722.3308923, \"Dimensions\": {\"Algorithm\": \"Linear Learner\", \"Host\": \"algo-1\", \"Operation\": \"training\", \"epoch\": 4, \"model\": 5}, \"Metrics\": {\"train_absolute_loss_objective\": {\"sum\": 0.542815089225769, \"count\": 1, \"min\": 0.542815089225769, \"max\": 0.542815089225769}}}\u001b[0m\n",
      "\u001b[34m#metrics {\"StartTime\": 1754988722.330907, \"EndTime\": 1754988722.3309112, \"Dimensions\": {\"Algorithm\": \"Linear Learner\", \"Host\": \"algo-1\", \"Operation\": \"training\", \"epoch\": 4, \"model\": 6}, \"Metrics\": {\"train_absolute_loss_objective\": {\"sum\": 0.6479586362838745, \"count\": 1, \"min\": 0.6479586362838745, \"max\": 0.6479586362838745}}}\u001b[0m\n",
      "\u001b[34m#metrics {\"StartTime\": 1754988722.330926, \"EndTime\": 1754988722.33093, \"Dimensions\": {\"Algorithm\": \"Linear Learner\", \"Host\": \"algo-1\", \"Operation\": \"training\", \"epoch\": 4, \"model\": 7}, \"Metrics\": {\"train_absolute_loss_objective\": {\"sum\": 0.611351490020752, \"count\": 1, \"min\": 0.611351490020752, \"max\": 0.611351490020752}}}\u001b[0m\n",
      "\u001b[34m#metrics {\"StartTime\": 1754988722.3309445, \"EndTime\": 1754988722.3309488, \"Dimensions\": {\"Algorithm\": \"Linear Learner\", \"Host\": \"algo-1\", \"Operation\": \"training\", \"epoch\": 4, \"model\": 8}, \"Metrics\": {\"train_absolute_loss_objective\": {\"sum\": 1.0187864303588867, \"count\": 1, \"min\": 1.0187864303588867, \"max\": 1.0187864303588867}}}\u001b[0m\n",
      "\u001b[34m#metrics {\"StartTime\": 1754988722.3309636, \"EndTime\": 1754988722.330968, \"Dimensions\": {\"Algorithm\": \"Linear Learner\", \"Host\": \"algo-1\", \"Operation\": \"training\", \"epoch\": 4, \"model\": 9}, \"Metrics\": {\"train_absolute_loss_objective\": {\"sum\": 0.9416795969009399, \"count\": 1, \"min\": 0.9416795969009399, \"max\": 0.9416795969009399}}}\u001b[0m\n",
      "\u001b[34m#metrics {\"StartTime\": 1754988722.3309822, \"EndTime\": 1754988722.3309865, \"Dimensions\": {\"Algorithm\": \"Linear Learner\", \"Host\": \"algo-1\", \"Operation\": \"training\", \"epoch\": 4, \"model\": 10}, \"Metrics\": {\"train_absolute_loss_objective\": {\"sum\": 0.9492835402488708, \"count\": 1, \"min\": 0.9492835402488708, \"max\": 0.9492835402488708}}}\u001b[0m\n",
      "\u001b[34m#metrics {\"StartTime\": 1754988722.3310013, \"EndTime\": 1754988722.3310058, \"Dimensions\": {\"Algorithm\": \"Linear Learner\", \"Host\": \"algo-1\", \"Operation\": \"training\", \"epoch\": 4, \"model\": 11}, \"Metrics\": {\"train_absolute_loss_objective\": {\"sum\": 0.9324691295623779, \"count\": 1, \"min\": 0.9324691295623779, \"max\": 0.9324691295623779}}}\u001b[0m\n",
      "\u001b[34m#metrics {\"StartTime\": 1754988722.3310204, \"EndTime\": 1754988722.3310244, \"Dimensions\": {\"Algorithm\": \"Linear Learner\", \"Host\": \"algo-1\", \"Operation\": \"training\", \"epoch\": 4, \"model\": 12}, \"Metrics\": {\"train_absolute_loss_objective\": {\"sum\": 0.5417124629020691, \"count\": 1, \"min\": 0.5417124629020691, \"max\": 0.5417124629020691}}}\u001b[0m\n",
      "\u001b[34m#metrics {\"StartTime\": 1754988722.331041, \"EndTime\": 1754988722.3310454, \"Dimensions\": {\"Algorithm\": \"Linear Learner\", \"Host\": \"algo-1\", \"Operation\": \"training\", \"epoch\": 4, \"model\": 13}, \"Metrics\": {\"train_absolute_loss_objective\": {\"sum\": 0.5749032497406006, \"count\": 1, \"min\": 0.5749032497406006, \"max\": 0.5749032497406006}}}\u001b[0m\n",
      "\u001b[34m#metrics {\"StartTime\": 1754988722.33106, \"EndTime\": 1754988722.331064, \"Dimensions\": {\"Algorithm\": \"Linear Learner\", \"Host\": \"algo-1\", \"Operation\": \"training\", \"epoch\": 4, \"model\": 14}, \"Metrics\": {\"train_absolute_loss_objective\": {\"sum\": 0.539832353591919, \"count\": 1, \"min\": 0.539832353591919, \"max\": 0.539832353591919}}}\u001b[0m\n",
      "\u001b[34m#metrics {\"StartTime\": 1754988722.3310783, \"EndTime\": 1754988722.3310826, \"Dimensions\": {\"Algorithm\": \"Linear Learner\", \"Host\": \"algo-1\", \"Operation\": \"training\", \"epoch\": 4, \"model\": 15}, \"Metrics\": {\"train_absolute_loss_objective\": {\"sum\": 0.5828579664230347, \"count\": 1, \"min\": 0.5828579664230347, \"max\": 0.5828579664230347}}}\u001b[0m\n",
      "\u001b[34m#metrics {\"StartTime\": 1754988722.331097, \"EndTime\": 1754988722.331101, \"Dimensions\": {\"Algorithm\": \"Linear Learner\", \"Host\": \"algo-1\", \"Operation\": \"training\", \"epoch\": 4, \"model\": 16}, \"Metrics\": {\"train_absolute_loss_objective\": {\"sum\": 0.9143252372741699, \"count\": 1, \"min\": 0.9143252372741699, \"max\": 0.9143252372741699}}}\u001b[0m\n",
      "\u001b[34m#metrics {\"StartTime\": 1754988722.3311152, \"EndTime\": 1754988722.331119, \"Dimensions\": {\"Algorithm\": \"Linear Learner\", \"Host\": \"algo-1\", \"Operation\": \"training\", \"epoch\": 4, \"model\": 17}, \"Metrics\": {\"train_absolute_loss_objective\": {\"sum\": 0.9725418090820312, \"count\": 1, \"min\": 0.9725418090820312, \"max\": 0.9725418090820312}}}\u001b[0m\n",
      "\u001b[34m#metrics {\"StartTime\": 1754988722.3311336, \"EndTime\": 1754988722.331138, \"Dimensions\": {\"Algorithm\": \"Linear Learner\", \"Host\": \"algo-1\", \"Operation\": \"training\", \"epoch\": 4, \"model\": 18}, \"Metrics\": {\"train_absolute_loss_objective\": {\"sum\": 0.9450675249099731, \"count\": 1, \"min\": 0.9450675249099731, \"max\": 0.9450675249099731}}}\u001b[0m\n",
      "\u001b[34m#metrics {\"StartTime\": 1754988722.3311522, \"EndTime\": 1754988722.3311563, \"Dimensions\": {\"Algorithm\": \"Linear Learner\", \"Host\": \"algo-1\", \"Operation\": \"training\", \"epoch\": 4, \"model\": 19}, \"Metrics\": {\"train_absolute_loss_objective\": {\"sum\": 0.9419985413551331, \"count\": 1, \"min\": 0.9419985413551331, \"max\": 0.9419985413551331}}}\u001b[0m\n",
      "\u001b[34m#metrics {\"StartTime\": 1754988722.3311706, \"EndTime\": 1754988722.3311746, \"Dimensions\": {\"Algorithm\": \"Linear Learner\", \"Host\": \"algo-1\", \"Operation\": \"training\", \"epoch\": 4, \"model\": 20}, \"Metrics\": {\"train_absolute_loss_objective\": {\"sum\": 0.601505696773529, \"count\": 1, \"min\": 0.601505696773529, \"max\": 0.601505696773529}}}\u001b[0m\n",
      "\u001b[34m#metrics {\"StartTime\": 1754988722.331189, \"EndTime\": 1754988722.331193, \"Dimensions\": {\"Algorithm\": \"Linear Learner\", \"Host\": \"algo-1\", \"Operation\": \"training\", \"epoch\": 4, \"model\": 21}, \"Metrics\": {\"train_absolute_loss_objective\": {\"sum\": 0.6206384301185608, \"count\": 1, \"min\": 0.6206384301185608, \"max\": 0.6206384301185608}}}\u001b[0m\n",
      "\u001b[34m#metrics {\"StartTime\": 1754988722.3312075, \"EndTime\": 1754988722.3312116, \"Dimensions\": {\"Algorithm\": \"Linear Learner\", \"Host\": \"algo-1\", \"Operation\": \"training\", \"epoch\": 4, \"model\": 22}, \"Metrics\": {\"train_absolute_loss_objective\": {\"sum\": 0.5395076274871826, \"count\": 1, \"min\": 0.5395076274871826, \"max\": 0.5395076274871826}}}\u001b[0m\n",
      "\u001b[34m#metrics {\"StartTime\": 1754988722.3312259, \"EndTime\": 1754988722.33123, \"Dimensions\": {\"Algorithm\": \"Linear Learner\", \"Host\": \"algo-1\", \"Operation\": \"training\", \"epoch\": 4, \"model\": 23}, \"Metrics\": {\"train_absolute_loss_objective\": {\"sum\": 0.653551459312439, \"count\": 1, \"min\": 0.653551459312439, \"max\": 0.653551459312439}}}\u001b[0m\n",
      "\u001b[34m#metrics {\"StartTime\": 1754988722.3312519, \"EndTime\": 1754988722.3312597, \"Dimensions\": {\"Algorithm\": \"Linear Learner\", \"Host\": \"algo-1\", \"Operation\": \"training\", \"epoch\": 4, \"model\": 24}, \"Metrics\": {\"train_absolute_loss_objective\": {\"sum\": 0.9374203681945801, \"count\": 1, \"min\": 0.9374203681945801, \"max\": 0.9374203681945801}}}\u001b[0m\n",
      "\u001b[34m#metrics {\"StartTime\": 1754988722.331334, \"EndTime\": 1754988722.3313432, \"Dimensions\": {\"Algorithm\": \"Linear Learner\", \"Host\": \"algo-1\", \"Operation\": \"training\", \"epoch\": 4, \"model\": 25}, \"Metrics\": {\"train_absolute_loss_objective\": {\"sum\": 0.9935459494590759, \"count\": 1, \"min\": 0.9935459494590759, \"max\": 0.9935459494590759}}}\u001b[0m\n",
      "\u001b[34m#metrics {\"StartTime\": 1754988722.3313963, \"EndTime\": 1754988722.3314042, \"Dimensions\": {\"Algorithm\": \"Linear Learner\", \"Host\": \"algo-1\", \"Operation\": \"training\", \"epoch\": 4, \"model\": 26}, \"Metrics\": {\"train_absolute_loss_objective\": {\"sum\": 0.9786449670791626, \"count\": 1, \"min\": 0.9786449670791626, \"max\": 0.9786449670791626}}}\u001b[0m\n",
      "\u001b[34m#metrics {\"StartTime\": 1754988722.3314571, \"EndTime\": 1754988722.3314662, \"Dimensions\": {\"Algorithm\": \"Linear Learner\", \"Host\": \"algo-1\", \"Operation\": \"training\", \"epoch\": 4, \"model\": 27}, \"Metrics\": {\"train_absolute_loss_objective\": {\"sum\": 0.9676957130432129, \"count\": 1, \"min\": 0.9676957130432129, \"max\": 0.9676957130432129}}}\u001b[0m\n",
      "\u001b[34m#metrics {\"StartTime\": 1754988722.3315325, \"EndTime\": 1754988722.3315425, \"Dimensions\": {\"Algorithm\": \"Linear Learner\", \"Host\": \"algo-1\", \"Operation\": \"training\", \"epoch\": 4, \"model\": 28}, \"Metrics\": {\"train_absolute_loss_objective\": {\"sum\": 0.9249743223190308, \"count\": 1, \"min\": 0.9249743223190308, \"max\": 0.9249743223190308}}}\u001b[0m\n",
      "\u001b[34m#metrics {\"StartTime\": 1754988722.3315978, \"EndTime\": 1754988722.331607, \"Dimensions\": {\"Algorithm\": \"Linear Learner\", \"Host\": \"algo-1\", \"Operation\": \"training\", \"epoch\": 4, \"model\": 29}, \"Metrics\": {\"train_absolute_loss_objective\": {\"sum\": 0.9275444746017456, \"count\": 1, \"min\": 0.9275444746017456, \"max\": 0.9275444746017456}}}\u001b[0m\n",
      "\u001b[34m#metrics {\"StartTime\": 1754988722.331669, \"EndTime\": 1754988722.3316786, \"Dimensions\": {\"Algorithm\": \"Linear Learner\", \"Host\": \"algo-1\", \"Operation\": \"training\", \"epoch\": 4, \"model\": 30}, \"Metrics\": {\"train_absolute_loss_objective\": {\"sum\": 1.0359585285186768, \"count\": 1, \"min\": 1.0359585285186768, \"max\": 1.0359585285186768}}}\u001b[0m\n",
      "\u001b[34m#metrics {\"StartTime\": 1754988722.3317327, \"EndTime\": 1754988722.331742, \"Dimensions\": {\"Algorithm\": \"Linear Learner\", \"Host\": \"algo-1\", \"Operation\": \"training\", \"epoch\": 4, \"model\": 31}, \"Metrics\": {\"train_absolute_loss_objective\": {\"sum\": 1.0462877750396729, \"count\": 1, \"min\": 1.0462877750396729, \"max\": 1.0462877750396729}}}\u001b[0m\n",
      "\u001b[34m[08/12/2025 08:52:02 INFO 140639117055808] #quality_metric: host=algo-1, epoch=4, train absolute_loss_objective <loss>=0.9553349018096924\u001b[0m\n",
      "\u001b[34m[08/12/2025 08:52:02 INFO 140639117055808] #early_stopping_criteria_metric: host=algo-1, epoch=4, criteria=absolute_loss_objective, value=0.530512273311615\u001b[0m\n",
      "\u001b[34m[08/12/2025 08:52:02 INFO 140639117055808] Epoch 4: Loss improved. Updating best model\u001b[0m\n",
      "\u001b[34m[08/12/2025 08:52:02 INFO 140639117055808] Saving model for epoch: 4\u001b[0m\n",
      "\u001b[34m[08/12/2025 08:52:02 INFO 140639117055808] Saved checkpoint to \"/tmp/tmpofvml80t/mx-mod-0000.params\"\u001b[0m\n",
      "\u001b[34m[08/12/2025 08:52:02 INFO 140639117055808] #progress_metric: host=algo-1, completed 83.33333333333333 % of epochs\u001b[0m\n",
      "\u001b[34m#metrics {\"StartTime\": 1754988722.3132467, \"EndTime\": 1754988722.3393888, \"Dimensions\": {\"Algorithm\": \"Linear Learner\", \"Host\": \"algo-1\", \"Operation\": \"training\", \"epoch\": 4, \"Meta\": \"training_data_iter\"}, \"Metrics\": {\"Total Records Seen\": {\"sum\": 34.0, \"count\": 1, \"min\": 34, \"max\": 34}, \"Total Batches Seen\": {\"sum\": 13.0, \"count\": 1, \"min\": 13, \"max\": 13}, \"Max Records Seen Between Resets\": {\"sum\": 5.0, \"count\": 1, \"min\": 5, \"max\": 5}, \"Max Batches Seen Between Resets\": {\"sum\": 2.0, \"count\": 1, \"min\": 2, \"max\": 2}, \"Reset Count\": {\"sum\": 7.0, \"count\": 1, \"min\": 7, \"max\": 7}, \"Number of Records Since Last Reset\": {\"sum\": 5.0, \"count\": 1, \"min\": 5, \"max\": 5}, \"Number of Batches Since Last Reset\": {\"sum\": 2.0, \"count\": 1, \"min\": 2, \"max\": 2}}}\u001b[0m\n",
      "\u001b[34m[08/12/2025 08:52:02 INFO 140639117055808] #throughput_metric: host=algo-1, train throughput=190.15060432137383 records/second\u001b[0m\n",
      "\u001b[34m[2025-08-12 08:52:02.351] [tensorio] [info] epoch_stats={\"data_pipeline\": \"/opt/ml/input/data/train\", \"epoch\": 14, \"duration\": 11, \"num_examples\": 2, \"num_bytes\": 240}\u001b[0m\n",
      "\u001b[34m#metrics {\"StartTime\": 1754988722.3511236, \"EndTime\": 1754988722.3511796, \"Dimensions\": {\"Algorithm\": \"Linear Learner\", \"Host\": \"algo-1\", \"Operation\": \"training\", \"epoch\": 5, \"model\": 0}, \"Metrics\": {\"train_absolute_loss_objective\": {\"sum\": 0.950426459312439, \"count\": 1, \"min\": 0.950426459312439, \"max\": 0.950426459312439}}}\u001b[0m\n",
      "\u001b[34m#metrics {\"StartTime\": 1754988722.3512423, \"EndTime\": 1754988722.3512537, \"Dimensions\": {\"Algorithm\": \"Linear Learner\", \"Host\": \"algo-1\", \"Operation\": \"training\", \"epoch\": 5, \"model\": 1}, \"Metrics\": {\"train_absolute_loss_objective\": {\"sum\": 0.9730250835418701, \"count\": 1, \"min\": 0.9730250835418701, \"max\": 0.9730250835418701}}}\u001b[0m\n",
      "\u001b[34m#metrics {\"StartTime\": 1754988722.3512855, \"EndTime\": 1754988722.3512945, \"Dimensions\": {\"Algorithm\": \"Linear Learner\", \"Host\": \"algo-1\", \"Operation\": \"training\", \"epoch\": 5, \"model\": 2}, \"Metrics\": {\"train_absolute_loss_objective\": {\"sum\": 0.9531639814376831, \"count\": 1, \"min\": 0.9531639814376831, \"max\": 0.9531639814376831}}}\u001b[0m\n",
      "\u001b[34m#metrics {\"StartTime\": 1754988722.351346, \"EndTime\": 1754988722.3513558, \"Dimensions\": {\"Algorithm\": \"Linear Learner\", \"Host\": \"algo-1\", \"Operation\": \"training\", \"epoch\": 5, \"model\": 3}, \"Metrics\": {\"train_absolute_loss_objective\": {\"sum\": 0.9718702435493469, \"count\": 1, \"min\": 0.9718702435493469, \"max\": 0.9718702435493469}}}\u001b[0m\n",
      "\u001b[34m#metrics {\"StartTime\": 1754988722.3514109, \"EndTime\": 1754988722.3514206, \"Dimensions\": {\"Algorithm\": \"Linear Learner\", \"Host\": \"algo-1\", \"Operation\": \"training\", \"epoch\": 5, \"model\": 4}, \"Metrics\": {\"train_absolute_loss_objective\": {\"sum\": 0.43234410881996155, \"count\": 1, \"min\": 0.43234410881996155, \"max\": 0.43234410881996155}}}\u001b[0m\n",
      "\u001b[34m#metrics {\"StartTime\": 1754988722.351483, \"EndTime\": 1754988722.3514931, \"Dimensions\": {\"Algorithm\": \"Linear Learner\", \"Host\": \"algo-1\", \"Operation\": \"training\", \"epoch\": 5, \"model\": 5}, \"Metrics\": {\"train_absolute_loss_objective\": {\"sum\": 0.444646954536438, \"count\": 1, \"min\": 0.444646954536438, \"max\": 0.444646954536438}}}\u001b[0m\n",
      "\u001b[34m#metrics {\"StartTime\": 1754988722.3515308, \"EndTime\": 1754988722.351539, \"Dimensions\": {\"Algorithm\": \"Linear Learner\", \"Host\": \"algo-1\", \"Operation\": \"training\", \"epoch\": 5, \"model\": 6}, \"Metrics\": {\"train_absolute_loss_objective\": {\"sum\": 0.5497904419898987, \"count\": 1, \"min\": 0.5497904419898987, \"max\": 0.5497904419898987}}}\u001b[0m\n",
      "\u001b[34m#metrics {\"StartTime\": 1754988722.3515635, \"EndTime\": 1754988722.351572, \"Dimensions\": {\"Algorithm\": \"Linear Learner\", \"Host\": \"algo-1\", \"Operation\": \"training\", \"epoch\": 5, \"model\": 7}, \"Metrics\": {\"train_absolute_loss_objective\": {\"sum\": 0.5131833553314209, \"count\": 1, \"min\": 0.5131833553314209, \"max\": 0.5131833553314209}}}\u001b[0m\n",
      "\u001b[34m#metrics {\"StartTime\": 1754988722.3515995, \"EndTime\": 1754988722.351607, \"Dimensions\": {\"Algorithm\": \"Linear Learner\", \"Host\": \"algo-1\", \"Operation\": \"training\", \"epoch\": 5, \"model\": 8}, \"Metrics\": {\"train_absolute_loss_objective\": {\"sum\": 1.0138781070709229, \"count\": 1, \"min\": 1.0138781070709229, \"max\": 1.0138781070709229}}}\u001b[0m\n",
      "\u001b[34m#metrics {\"StartTime\": 1754988722.35166, \"EndTime\": 1754988722.351668, \"Dimensions\": {\"Algorithm\": \"Linear Learner\", \"Host\": \"algo-1\", \"Operation\": \"training\", \"epoch\": 5, \"model\": 9}, \"Metrics\": {\"train_absolute_loss_objective\": {\"sum\": 0.9367712736129761, \"count\": 1, \"min\": 0.9367712736129761, \"max\": 0.9367712736129761}}}\u001b[0m\n",
      "\u001b[34m#metrics {\"StartTime\": 1754988722.3517241, \"EndTime\": 1754988722.3517332, \"Dimensions\": {\"Algorithm\": \"Linear Learner\", \"Host\": \"algo-1\", \"Operation\": \"training\", \"epoch\": 5, \"model\": 10}, \"Metrics\": {\"train_absolute_loss_objective\": {\"sum\": 0.9443751573562622, \"count\": 1, \"min\": 0.9443751573562622, \"max\": 0.9443751573562622}}}\u001b[0m\n",
      "\u001b[34m#metrics {\"StartTime\": 1754988722.3517888, \"EndTime\": 1754988722.351798, \"Dimensions\": {\"Algorithm\": \"Linear Learner\", \"Host\": \"algo-1\", \"Operation\": \"training\", \"epoch\": 5, \"model\": 11}, \"Metrics\": {\"train_absolute_loss_objective\": {\"sum\": 0.9275607466697693, \"count\": 1, \"min\": 0.9275607466697693, \"max\": 0.9275607466697693}}}\u001b[0m\n",
      "\u001b[34m#metrics {\"StartTime\": 1754988722.35186, \"EndTime\": 1754988722.3518703, \"Dimensions\": {\"Algorithm\": \"Linear Learner\", \"Host\": \"algo-1\", \"Operation\": \"training\", \"epoch\": 5, \"model\": 12}, \"Metrics\": {\"train_absolute_loss_objective\": {\"sum\": 0.4435649812221527, \"count\": 1, \"min\": 0.4435649812221527, \"max\": 0.4435649812221527}}}\u001b[0m\n",
      "\u001b[34m#metrics {\"StartTime\": 1754988722.351905, \"EndTime\": 1754988722.3519123, \"Dimensions\": {\"Algorithm\": \"Linear Learner\", \"Host\": \"algo-1\", \"Operation\": \"training\", \"epoch\": 5, \"model\": 13}, \"Metrics\": {\"train_absolute_loss_objective\": {\"sum\": 0.4767557978630066, \"count\": 1, \"min\": 0.4767557978630066, \"max\": 0.4767557978630066}}}\u001b[0m\n",
      "\u001b[34m#metrics {\"StartTime\": 1754988722.3519416, \"EndTime\": 1754988722.3519495, \"Dimensions\": {\"Algorithm\": \"Linear Learner\", \"Host\": \"algo-1\", \"Operation\": \"training\", \"epoch\": 5, \"model\": 14}, \"Metrics\": {\"train_absolute_loss_objective\": {\"sum\": 0.44168493151664734, \"count\": 1, \"min\": 0.44168493151664734, \"max\": 0.44168493151664734}}}\u001b[0m\n",
      "\u001b[34m#metrics {\"StartTime\": 1754988722.35198, \"EndTime\": 1754988722.3519876, \"Dimensions\": {\"Algorithm\": \"Linear Learner\", \"Host\": \"algo-1\", \"Operation\": \"training\", \"epoch\": 5, \"model\": 15}, \"Metrics\": {\"train_absolute_loss_objective\": {\"sum\": 0.48471054434776306, \"count\": 1, \"min\": 0.48471054434776306, \"max\": 0.48471054434776306}}}\u001b[0m\n",
      "\u001b[34m#metrics {\"StartTime\": 1754988722.3520179, \"EndTime\": 1754988722.3520253, \"Dimensions\": {\"Algorithm\": \"Linear Learner\", \"Host\": \"algo-1\", \"Operation\": \"training\", \"epoch\": 5, \"model\": 16}, \"Metrics\": {\"train_absolute_loss_objective\": {\"sum\": 0.9094224572181702, \"count\": 1, \"min\": 0.9094224572181702, \"max\": 0.9094224572181702}}}\u001b[0m\n",
      "\u001b[34m#metrics {\"StartTime\": 1754988722.3520794, \"EndTime\": 1754988722.352089, \"Dimensions\": {\"Algorithm\": \"Linear Learner\", \"Host\": \"algo-1\", \"Operation\": \"training\", \"epoch\": 5, \"model\": 17}, \"Metrics\": {\"train_absolute_loss_objective\": {\"sum\": 0.9676386713981628, \"count\": 1, \"min\": 0.9676386713981628, \"max\": 0.9676386713981628}}}\u001b[0m\n",
      "\u001b[34m#metrics {\"StartTime\": 1754988722.3521252, \"EndTime\": 1754988722.3521345, \"Dimensions\": {\"Algorithm\": \"Linear Learner\", \"Host\": \"algo-1\", \"Operation\": \"training\", \"epoch\": 5, \"model\": 18}, \"Metrics\": {\"train_absolute_loss_objective\": {\"sum\": 0.9401645660400391, \"count\": 1, \"min\": 0.9401645660400391, \"max\": 0.9401645660400391}}}\u001b[0m\n",
      "\u001b[34m#metrics {\"StartTime\": 1754988722.352194, \"EndTime\": 1754988722.352203, \"Dimensions\": {\"Algorithm\": \"Linear Learner\", \"Host\": \"algo-1\", \"Operation\": \"training\", \"epoch\": 5, \"model\": 19}, \"Metrics\": {\"train_absolute_loss_objective\": {\"sum\": 0.9370956420898438, \"count\": 1, \"min\": 0.9370956420898438, \"max\": 0.9370956420898438}}}\u001b[0m\n",
      "\u001b[34m#metrics {\"StartTime\": 1754988722.3522623, \"EndTime\": 1754988722.3522718, \"Dimensions\": {\"Algorithm\": \"Linear Learner\", \"Host\": \"algo-1\", \"Operation\": \"training\", \"epoch\": 5, \"model\": 20}, \"Metrics\": {\"train_absolute_loss_objective\": {\"sum\": 0.5073514580726624, \"count\": 1, \"min\": 0.5073514580726624, \"max\": 0.5073514580726624}}}\u001b[0m\n",
      "\u001b[34m#metrics {\"StartTime\": 1754988722.3523023, \"EndTime\": 1754988722.3523116, \"Dimensions\": {\"Algorithm\": \"Linear Learner\", \"Host\": \"algo-1\", \"Operation\": \"training\", \"epoch\": 5, \"model\": 21}, \"Metrics\": {\"train_absolute_loss_objective\": {\"sum\": 0.5263567566871643, \"count\": 1, \"min\": 0.5263567566871643, \"max\": 0.5263567566871643}}}\u001b[0m\n",
      "\u001b[34m#metrics {\"StartTime\": 1754988722.3523715, \"EndTime\": 1754988722.3523817, \"Dimensions\": {\"Algorithm\": \"Linear Learner\", \"Host\": \"algo-1\", \"Operation\": \"training\", \"epoch\": 5, \"model\": 22}, \"Metrics\": {\"train_absolute_loss_objective\": {\"sum\": 0.4458244740962982, \"count\": 1, \"min\": 0.4458244740962982, \"max\": 0.4458244740962982}}}\u001b[0m\n",
      "\u001b[34m#metrics {\"StartTime\": 1754988722.352439, \"EndTime\": 1754988722.352448, \"Dimensions\": {\"Algorithm\": \"Linear Learner\", \"Host\": \"algo-1\", \"Operation\": \"training\", \"epoch\": 5, \"model\": 23}, \"Metrics\": {\"train_absolute_loss_objective\": {\"sum\": 0.5590673089027405, \"count\": 1, \"min\": 0.5590673089027405, \"max\": 0.5590673089027405}}}\u001b[0m\n",
      "\u001b[34m#metrics {\"StartTime\": 1754988722.3525012, \"EndTime\": 1754988722.3525116, \"Dimensions\": {\"Algorithm\": \"Linear Learner\", \"Host\": \"algo-1\", \"Operation\": \"training\", \"epoch\": 5, \"model\": 24}, \"Metrics\": {\"train_absolute_loss_objective\": {\"sum\": 0.94215989112854, \"count\": 1, \"min\": 0.94215989112854, \"max\": 0.94215989112854}}}\u001b[0m\n",
      "\u001b[34m#metrics {\"StartTime\": 1754988722.3525672, \"EndTime\": 1754988722.3525765, \"Dimensions\": {\"Algorithm\": \"Linear Learner\", \"Host\": \"algo-1\", \"Operation\": \"training\", \"epoch\": 5, \"model\": 25}, \"Metrics\": {\"train_absolute_loss_objective\": {\"sum\": 0.9889072775840759, \"count\": 1, \"min\": 0.9889072775840759, \"max\": 0.9889072775840759}}}\u001b[0m\n",
      "\u001b[34m#metrics {\"StartTime\": 1754988722.3526073, \"EndTime\": 1754988722.3532658, \"Dimensions\": {\"Algorithm\": \"Linear Learner\", \"Host\": \"algo-1\", \"Operation\": \"training\", \"epoch\": 5, \"model\": 26}, \"Metrics\": {\"train_absolute_loss_objective\": {\"sum\": 0.9744018316268921, \"count\": 1, \"min\": 0.9744018316268921, \"max\": 0.9744018316268921}}}\u001b[0m\n",
      "\u001b[34m#metrics {\"StartTime\": 1754988722.3533032, \"EndTime\": 1754988722.3533103, \"Dimensions\": {\"Algorithm\": \"Linear Learner\", \"Host\": \"algo-1\", \"Operation\": \"training\", \"epoch\": 5, \"model\": 27}, \"Metrics\": {\"train_absolute_loss_objective\": {\"sum\": 0.965808629989624, \"count\": 1, \"min\": 0.965808629989624, \"max\": 0.965808629989624}}}\u001b[0m\n",
      "\u001b[34m#metrics {\"StartTime\": 1754988722.3533728, \"EndTime\": 1754988722.3533826, \"Dimensions\": {\"Algorithm\": \"Linear Learner\", \"Host\": \"algo-1\", \"Operation\": \"training\", \"epoch\": 5, \"model\": 28}, \"Metrics\": {\"train_absolute_loss_objective\": {\"sum\": 0.9337030649185181, \"count\": 1, \"min\": 0.9337030649185181, \"max\": 0.9337030649185181}}}\u001b[0m\n",
      "\u001b[34m#metrics {\"StartTime\": 1754988722.3534298, \"EndTime\": 1754988722.3534384, \"Dimensions\": {\"Algorithm\": \"Linear Learner\", \"Host\": \"algo-1\", \"Operation\": \"training\", \"epoch\": 5, \"model\": 29}, \"Metrics\": {\"train_absolute_loss_objective\": {\"sum\": 0.9344253540039062, \"count\": 1, \"min\": 0.9344253540039062, \"max\": 0.9344253540039062}}}\u001b[0m\n",
      "\u001b[34m#metrics {\"StartTime\": 1754988722.353494, \"EndTime\": 1754988722.3535032, \"Dimensions\": {\"Algorithm\": \"Linear Learner\", \"Host\": \"algo-1\", \"Operation\": \"training\", \"epoch\": 5, \"model\": 30}, \"Metrics\": {\"train_absolute_loss_objective\": {\"sum\": 1.0235553979873657, \"count\": 1, \"min\": 1.0235553979873657, \"max\": 1.0235553979873657}}}\u001b[0m\n",
      "\u001b[34m#metrics {\"StartTime\": 1754988722.3535376, \"EndTime\": 1754988722.3535452, \"Dimensions\": {\"Algorithm\": \"Linear Learner\", \"Host\": \"algo-1\", \"Operation\": \"training\", \"epoch\": 5, \"model\": 31}, \"Metrics\": {\"train_absolute_loss_objective\": {\"sum\": 1.036881923675537, \"count\": 1, \"min\": 1.036881923675537, \"max\": 1.036881923675537}}}\u001b[0m\n",
      "\u001b[34m[08/12/2025 08:52:02 INFO 140639117055808] #quality_metric: host=algo-1, epoch=5, train absolute_loss_objective <loss>=0.950426459312439\u001b[0m\n",
      "\u001b[34m[08/12/2025 08:52:02 INFO 140639117055808] #early_stopping_criteria_metric: host=algo-1, epoch=5, criteria=absolute_loss_objective, value=0.43234410881996155\u001b[0m\n",
      "\u001b[34m[08/12/2025 08:52:02 INFO 140639117055808] Epoch 5: Loss improved. Updating best model\u001b[0m\n",
      "\u001b[34m[08/12/2025 08:52:02 INFO 140639117055808] Saving model for epoch: 5\u001b[0m\n",
      "\u001b[34m[08/12/2025 08:52:02 INFO 140639117055808] Saved checkpoint to \"/tmp/tmpdsksy_yk/mx-mod-0000.params\"\u001b[0m\n",
      "\u001b[34m[08/12/2025 08:52:02 INFO 140639117055808] #progress_metric: host=algo-1, completed 100.0 % of epochs\u001b[0m\n",
      "\u001b[34m#metrics {\"StartTime\": 1754988722.3396559, \"EndTime\": 1754988722.359721, \"Dimensions\": {\"Algorithm\": \"Linear Learner\", \"Host\": \"algo-1\", \"Operation\": \"training\", \"epoch\": 5, \"Meta\": \"training_data_iter\"}, \"Metrics\": {\"Total Records Seen\": {\"sum\": 39.0, \"count\": 1, \"min\": 39, \"max\": 39}, \"Total Batches Seen\": {\"sum\": 15.0, \"count\": 1, \"min\": 15, \"max\": 15}, \"Max Records Seen Between Resets\": {\"sum\": 5.0, \"count\": 1, \"min\": 5, \"max\": 5}, \"Max Batches Seen Between Resets\": {\"sum\": 2.0, \"count\": 1, \"min\": 2, \"max\": 2}, \"Reset Count\": {\"sum\": 8.0, \"count\": 1, \"min\": 8, \"max\": 8}, \"Number of Records Since Last Reset\": {\"sum\": 5.0, \"count\": 1, \"min\": 5, \"max\": 5}, \"Number of Batches Since Last Reset\": {\"sum\": 2.0, \"count\": 1, \"min\": 2, \"max\": 2}}}\u001b[0m\n",
      "\u001b[34m[08/12/2025 08:52:02 INFO 140639117055808] #throughput_metric: host=algo-1, train throughput=247.8258608872397 records/second\u001b[0m\n",
      "\u001b[34m[08/12/2025 08:52:02 WARNING 140639117055808] wait_for_all_workers will not sync workers since the kv store is not running distributed\u001b[0m\n",
      "\u001b[34m[08/12/2025 08:52:02 WARNING 140639117055808] wait_for_all_workers will not sync workers since the kv store is not running distributed\u001b[0m\n",
      "\u001b[34m[2025-08-12 08:52:02.360] [tensorio] [info] epoch_stats={\"data_pipeline\": \"/opt/ml/input/data/train\", \"epoch\": 16, \"duration\": 0, \"num_examples\": 1, \"num_bytes\": 192}\u001b[0m\n",
      "\u001b[34m[2025-08-12 08:52:02.364] [tensorio] [info] epoch_stats={\"data_pipeline\": \"/opt/ml/input/data/train\", \"epoch\": 18, \"duration\": 2, \"num_examples\": 2, \"num_bytes\": 240}\u001b[0m\n",
      "\u001b[34m[08/12/2025 08:52:02 INFO 140639117055808] #train_score (algo-1) : ('absolute_loss_objective', 0.7523136138916016)\u001b[0m\n",
      "\u001b[34m[08/12/2025 08:52:02 INFO 140639117055808] #train_score (algo-1) : ('mse', 0.6422720372676849)\u001b[0m\n",
      "\u001b[34m[08/12/2025 08:52:02 INFO 140639117055808] #train_score (algo-1) : ('absolute_loss', 0.7523136138916016)\u001b[0m\n",
      "\u001b[34m[08/12/2025 08:52:02 INFO 140639117055808] #train_score (algo-1) : ('rmse', 0.8014187652330614)\u001b[0m\n",
      "\u001b[34m[08/12/2025 08:52:02 INFO 140639117055808] #train_score (algo-1) : ('r2', 0.8835113145950982)\u001b[0m\n",
      "\u001b[34m[08/12/2025 08:52:02 INFO 140639117055808] #train_score (algo-1) : ('mae', 0.7523136138916016)\u001b[0m\n",
      "\u001b[34m[08/12/2025 08:52:02 INFO 140639117055808] #quality_metric: host=algo-1, train absolute_loss_objective <loss>=0.7523136138916016\u001b[0m\n",
      "\u001b[34m[08/12/2025 08:52:02 INFO 140639117055808] #quality_metric: host=algo-1, train mse <loss>=0.6422720372676849\u001b[0m\n",
      "\u001b[34m[08/12/2025 08:52:02 INFO 140639117055808] #quality_metric: host=algo-1, train absolute_loss <loss>=0.7523136138916016\u001b[0m\n",
      "\u001b[34m[08/12/2025 08:52:02 INFO 140639117055808] #quality_metric: host=algo-1, train rmse <loss>=0.8014187652330614\u001b[0m\n",
      "\u001b[34m[08/12/2025 08:52:02 INFO 140639117055808] #quality_metric: host=algo-1, train r2 <loss>=0.8835113145950982\u001b[0m\n",
      "\u001b[34m[08/12/2025 08:52:02 INFO 140639117055808] #quality_metric: host=algo-1, train mae <loss>=0.7523136138916016\u001b[0m\n",
      "\u001b[34m[08/12/2025 08:52:02 INFO 140639117055808] Best model found for hyperparameters: {\"optimizer\": \"adam\", \"learning_rate\": 0.1, \"wd\": 0.0001, \"l1\": 0.0, \"lr_scheduler_step\": 10, \"lr_scheduler_factor\": 0.99, \"lr_scheduler_minimum_lr\": 1e-05}\u001b[0m\n",
      "\u001b[34m[08/12/2025 08:52:02 INFO 140639117055808] Saved checkpoint to \"/tmp/tmpevm2ffml/mx-mod-0000.params\"\u001b[0m\n",
      "\u001b[34m[08/12/2025 08:52:02 INFO 140639117055808] Test data is not provided.\u001b[0m\n",
      "\u001b[34m#metrics {\"StartTime\": 1754988722.0989845, \"EndTime\": 1754988722.3702092, \"Dimensions\": {\"Algorithm\": \"Linear Learner\", \"Host\": \"algo-1\", \"Operation\": \"training\"}, \"Metrics\": {\"initialize.time\": {\"sum\": 115.49758911132812, \"count\": 1, \"min\": 115.49758911132812, \"max\": 115.49758911132812}, \"epochs\": {\"sum\": 6.0, \"count\": 1, \"min\": 6, \"max\": 6}, \"check_early_stopping.time\": {\"sum\": 4.9533843994140625, \"count\": 6, \"min\": 0.7448196411132812, \"max\": 0.9608268737792969}, \"update.time\": {\"sum\": 129.64487075805664, \"count\": 6, \"min\": 17.958402633666992, \"max\": 30.588626861572266}, \"finalize.time\": {\"sum\": 6.043910980224609, \"count\": 1, \"min\": 6.043910980224609, \"max\": 6.043910980224609}, \"setuptime\": {\"sum\": 1.730203628540039, \"count\": 1, \"min\": 1.730203628540039, \"max\": 1.730203628540039}, \"totaltime\": {\"sum\": 378.3688545227051, \"count\": 1, \"min\": 378.3688545227051, \"max\": 378.3688545227051}}}\u001b[0m\n",
      "\n",
      "2025-08-12 08:52:19 Uploading - Uploading generated training model\n",
      "2025-08-12 08:52:19 Completed - Training job completed\n",
      "Training seconds: 170\n",
      "Billable seconds: 170\n"
     ]
    }
   ],
   "source": [
    "# fit model \n",
    "\n",
    "linear.fit({'train': s3_train_data})"
   ]
  },
  {
   "cell_type": "code",
   "execution_count": 67,
   "id": "4e4faad8-efeb-4371-92d4-61848dd138e1",
   "metadata": {
    "execution": {
     "iopub.execute_input": "2025-08-12T08:56:36.620652Z",
     "iopub.status.busy": "2025-08-12T08:56:36.620305Z",
     "iopub.status.idle": "2025-08-12T09:00:38.548669Z",
     "shell.execute_reply": "2025-08-12T09:00:38.547951Z",
     "shell.execute_reply.started": "2025-08-12T08:56:36.620629Z"
    }
   },
   "outputs": [
    {
     "name": "stderr",
     "output_type": "stream",
     "text": [
      "INFO:sagemaker:Creating model with name: linear-learner-2025-08-12-08-56-36-621\n",
      "INFO:sagemaker:Creating endpoint-config with name linear-learner-2025-08-12-08-56-36-621\n",
      "INFO:sagemaker:Creating endpoint with name linear-learner-2025-08-12-08-56-36-621\n"
     ]
    },
    {
     "name": "stdout",
     "output_type": "stream",
     "text": [
      "-------!"
     ]
    }
   ],
   "source": [
    "# depoly the model \n",
    "\n",
    "liner_regresor = linear.deploy(initial_instance_count=1, instance_type='ml.m4.xlarge')"
   ]
  },
  {
   "cell_type": "code",
   "execution_count": 68,
   "id": "78903d80-3e71-4469-b250-a5be801d8efb",
   "metadata": {
    "execution": {
     "iopub.execute_input": "2025-08-12T09:08:44.527899Z",
     "iopub.status.busy": "2025-08-12T09:08:44.527426Z",
     "iopub.status.idle": "2025-08-12T09:08:44.536771Z",
     "shell.execute_reply": "2025-08-12T09:08:44.536001Z",
     "shell.execute_reply.started": "2025-08-12T09:08:44.527865Z"
    }
   },
   "outputs": [
    {
     "data": {
      "text/plain": [
       "<bound method Predictor.delete_endpoint of <sagemaker.base_predictor.Predictor object at 0x7feaf0ad1520>>"
      ]
     },
     "execution_count": 68,
     "metadata": {},
     "output_type": "execute_result"
    }
   ],
   "source": [
    "liner_regresor.delete_endpoint"
   ]
  },
  {
   "cell_type": "code",
   "execution_count": null,
   "id": "c1da830e-7e47-4afb-879b-60d3953a803d",
   "metadata": {},
   "outputs": [],
   "source": []
  }
 ],
 "metadata": {
  "kernelspec": {
   "display_name": "Python 3 (ipykernel)",
   "language": "python",
   "name": "python3"
  },
  "language_info": {
   "codemirror_mode": {
    "name": "ipython",
    "version": 3
   },
   "file_extension": ".py",
   "mimetype": "text/x-python",
   "name": "python",
   "nbconvert_exporter": "python",
   "pygments_lexer": "ipython3",
   "version": "3.12.9"
  }
 },
 "nbformat": 4,
 "nbformat_minor": 5
}
