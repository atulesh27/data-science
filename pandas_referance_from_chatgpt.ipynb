{
  "nbformat": 4,
  "nbformat_minor": 0,
  "metadata": {
    "colab": {
      "provenance": [],
      "authorship_tag": "ABX9TyP1MoUrVXDj9Hf1a0hoRcMW",
      "include_colab_link": true
    },
    "kernelspec": {
      "name": "python3",
      "display_name": "Python 3"
    },
    "language_info": {
      "name": "python"
    }
  },
  "cells": [
    {
      "cell_type": "markdown",
      "metadata": {
        "id": "view-in-github",
        "colab_type": "text"
      },
      "source": [
        "<a href=\"https://colab.research.google.com/github/atulesh27/data-science/blob/main/pandas_referance_from_chatgpt.ipynb\" target=\"_parent\"><img src=\"https://colab.research.google.com/assets/colab-badge.svg\" alt=\"Open In Colab\"/></a>"
      ]
    },
    {
      "cell_type": "code",
      "execution_count": null,
      "metadata": {
        "id": "VxVy-k7PrEdu"
      },
      "outputs": [],
      "source": [
        "import pandas as pd\n",
        "\n",
        "data = ['g', 'e', 'e', 'k', 's']\n",
        "series = pd.Series(data)"
      ]
    },
    {
      "cell_type": "code",
      "source": [
        "series"
      ],
      "metadata": {
        "colab": {
          "base_uri": "https://localhost:8080/"
        },
        "id": "ZNbMONsarsdF",
        "outputId": "894f9971-b883-470c-8d22-5b3de5dde1c8"
      },
      "execution_count": null,
      "outputs": [
        {
          "output_type": "execute_result",
          "data": {
            "text/plain": [
              "0    g\n",
              "1    e\n",
              "2    e\n",
              "3    k\n",
              "4    s\n",
              "dtype: object"
            ]
          },
          "metadata": {},
          "execution_count": 2
        }
      ]
    },
    {
      "cell_type": "code",
      "source": [
        "import pandas as pd\n",
        "import numpy as np"
      ],
      "metadata": {
        "id": "cU58ILsurwkO"
      },
      "execution_count": null,
      "outputs": []
    },
    {
      "cell_type": "code",
      "source": [
        "# simple array\n",
        "data = np.array(['g', 'e', 'e', 'k', 's'])\n",
        "\n",
        "ser = pd.Series(data, index = [10,20,30,40,50])\n",
        "print(ser)\n"
      ],
      "metadata": {
        "colab": {
          "base_uri": "https://localhost:8080/"
        },
        "id": "6jAkAa05r7UD",
        "outputId": "e5083d44-1468-47c0-b781-c277a09af495"
      },
      "execution_count": null,
      "outputs": [
        {
          "output_type": "stream",
          "name": "stdout",
          "text": [
            "10    g\n",
            "20    e\n",
            "30    e\n",
            "40    k\n",
            "50    s\n",
            "dtype: object\n"
          ]
        }
      ]
    },
    {
      "cell_type": "code",
      "source": [
        "list1 = ['a', 'b', 'c', 'd']\n",
        "\n",
        "print(pd.Series(list1))"
      ],
      "metadata": {
        "colab": {
          "base_uri": "https://localhost:8080/"
        },
        "id": "YjhYJC8OsMGZ",
        "outputId": "3afcb89f-e553-49f9-8b86-130b9e604f6a"
      },
      "execution_count": null,
      "outputs": [
        {
          "output_type": "stream",
          "name": "stdout",
          "text": [
            "0    a\n",
            "1    b\n",
            "2    c\n",
            "3    d\n",
            "dtype: object\n"
          ]
        }
      ]
    },
    {
      "cell_type": "code",
      "source": [
        "\"\"\"dict1 = {'Geeks': 10,\n",
        "  'for': 20,\n",
        "  'geeks': 30}\"\"\"\n",
        "\n",
        "dict2 = {\"a\": 1, \"b\": 2, \"c\": 3}\n",
        "\n",
        "\n",
        "\n",
        "\n",
        "#pd.Series(dict1)\n",
        "pd.Series(dict2)\n"
      ],
      "metadata": {
        "colab": {
          "base_uri": "https://localhost:8080/"
        },
        "id": "REY3HoKlwoyv",
        "outputId": "4ac36acd-c953-4d48-8646-bf814172d404"
      },
      "execution_count": null,
      "outputs": [
        {
          "output_type": "execute_result",
          "data": {
            "text/plain": [
              "a    1\n",
              "b    2\n",
              "c    3\n",
              "dtype: int64"
            ]
          },
          "metadata": {},
          "execution_count": 6
        }
      ]
    },
    {
      "cell_type": "code",
      "source": [
        "df = pd.read_csv(\"file_csv\")"
      ],
      "metadata": {
        "id": "WdMCWrHYzmRR"
      },
      "execution_count": null,
      "outputs": []
    },
    {
      "cell_type": "code",
      "source": [
        "#Display the first 10 rows of a DataFrame.\n",
        "\n",
        "df.head(10)"
      ],
      "metadata": {
        "id": "CZDaQZ2izxtG"
      },
      "execution_count": null,
      "outputs": []
    },
    {
      "cell_type": "code",
      "source": [
        "#Display the last 5 rows of a DataFrame.\n",
        "\n",
        "df.tail(5)"
      ],
      "metadata": {
        "id": "Hqz7PaSMz1sE"
      },
      "execution_count": null,
      "outputs": []
    },
    {
      "cell_type": "code",
      "source": [
        "#Get the column names of a DataFrame.\n",
        "df.columns"
      ],
      "metadata": {
        "id": "Dmj8SkfJz7cy"
      },
      "execution_count": null,
      "outputs": []
    },
    {
      "cell_type": "code",
      "source": [
        "#Get the data types of each column in a DataFrame.\n",
        "print(df.dtypes)"
      ],
      "metadata": {
        "id": "JUKUuQf720M0"
      },
      "execution_count": null,
      "outputs": []
    },
    {
      "cell_type": "markdown",
      "source": [
        "#Data Cleaning and Preparation"
      ],
      "metadata": {
        "id": "xn9JnzXO3BTI"
      }
    },
    {
      "cell_type": "code",
      "source": [
        "#Handle missing values.\n",
        "\n",
        "print(df.isnull().sum())"
      ],
      "metadata": {
        "id": "NbAQgyQD27bC"
      },
      "execution_count": null,
      "outputs": []
    },
    {
      "cell_type": "code",
      "source": [
        "#Fill missing values with the mean of a column:\n",
        "\n",
        "df['column_name'].fillna(df['column_name'].mean(), inplace=True)"
      ],
      "metadata": {
        "id": "5kVdQJwd3LHp"
      },
      "execution_count": null,
      "outputs": []
    },
    {
      "cell_type": "code",
      "source": [
        "#Drop rows with missing values.\n",
        "df.dropna(inplace=True)"
      ],
      "metadata": {
        "id": "026ZUDim7sIF"
      },
      "execution_count": null,
      "outputs": []
    },
    {
      "cell_type": "code",
      "source": [
        "#Drop columns with missing values.\n",
        "\n",
        "df.dropna(axis=1, inplace=True)"
      ],
      "metadata": {
        "id": "U6k3pHEB6JPp"
      },
      "execution_count": null,
      "outputs": []
    },
    {
      "cell_type": "code",
      "source": [
        "#Replace missing values with a specific value.\n",
        "\n",
        "df['column_name'].fillna(0, inplace=True)"
      ],
      "metadata": {
        "id": "0KLmMF0sBbk-"
      },
      "execution_count": null,
      "outputs": []
    },
    {
      "cell_type": "code",
      "source": [
        "#Convert a column to a different data type\n",
        "\n",
        "df['column_name'] = df['column_name'].astype(int)"
      ],
      "metadata": {
        "id": "MRy750s6Bgx-"
      },
      "execution_count": null,
      "outputs": []
    },
    {
      "cell_type": "markdown",
      "source": [
        "#Filtering and Sorting"
      ],
      "metadata": {
        "id": "_EJ12QPIBqCD"
      }
    },
    {
      "cell_type": "code",
      "source": [
        "#Filter rows based on a condition.\n",
        "\n",
        "filtered_df = df[df['column_name'] > 10]"
      ],
      "metadata": {
        "id": "ag3i-oEYBnek"
      },
      "execution_count": null,
      "outputs": []
    },
    {
      "cell_type": "code",
      "source": [
        "#Filter rows based on multiple conditions.\n",
        "\n",
        "filtered_df = df[(df['column1'] > 10) & (df['column2'] < 20)]"
      ],
      "metadata": {
        "id": "AjSk9H41ED3u"
      },
      "execution_count": null,
      "outputs": []
    },
    {
      "cell_type": "code",
      "source": [
        "#Sort a DataFrame by a column\n",
        "\n",
        "sorted_df = df.sort_values(by='column_name')"
      ],
      "metadata": {
        "id": "La-5xoBmGjEL"
      },
      "execution_count": null,
      "outputs": []
    },
    {
      "cell_type": "code",
      "source": [
        "#Sort a DataFrame by multiple columns.\n",
        "\n",
        "sorted_df = df.sort_values(by=['column1', 'column2'], ascending=[True, False])\n"
      ],
      "metadata": {
        "id": "XB-xbv2JIK6T"
      },
      "execution_count": null,
      "outputs": []
    },
    {
      "cell_type": "code",
      "source": [
        "#Select specific columns from a DataFrame.\n",
        "\n",
        "selected_df = df[['column1', 'column2']]"
      ],
      "metadata": {
        "id": "c7TyAuJFIPQf"
      },
      "execution_count": null,
      "outputs": []
    },
    {
      "cell_type": "markdown",
      "source": [
        "#Grouping and Aggregation"
      ],
      "metadata": {
        "id": "cLttsEHIIaPk"
      }
    },
    {
      "cell_type": "code",
      "source": [
        "#Group by a column and calculate summary statistics.\n",
        "\n",
        "grouped_df = df.groupby('column_name')['another_column'].mean()"
      ],
      "metadata": {
        "id": "tXeoVC_nIWl8"
      },
      "execution_count": null,
      "outputs": []
    },
    {
      "cell_type": "code",
      "source": [
        "#Group by multiple columns and calculate summary statistics.\n",
        "\n",
        "grouped_df = df.groupby(['column1', 'column2'])['another_column'].sum()"
      ],
      "metadata": {
        "id": "7WngEqlOIt7k"
      },
      "execution_count": null,
      "outputs": []
    },
    {
      "cell_type": "code",
      "source": [
        "#Calculate the total sum of a column grouped by another column.\n",
        "\n",
        "total_sum = df.groupby('column_name')['another_column'].sum()\n"
      ],
      "metadata": {
        "id": "myvTnfpCKOjy"
      },
      "execution_count": null,
      "outputs": []
    },
    {
      "cell_type": "code",
      "source": [
        "#Get the count of rows for each group\n",
        "\n",
        "count_rows = df.groupby('column_name').size()"
      ],
      "metadata": {
        "id": "yDlBlFaPKVHl"
      },
      "execution_count": null,
      "outputs": []
    },
    {
      "cell_type": "code",
      "source": [
        "#Get the maximum value of a column for each group\n",
        "\n",
        "max_value = df.groupby('column_name')['another_column'].max()\n"
      ],
      "metadata": {
        "id": "x2kk43bQKpHk"
      },
      "execution_count": null,
      "outputs": []
    },
    {
      "cell_type": "markdown",
      "source": [
        "#Merging and Joining"
      ],
      "metadata": {
        "id": "G3hCv5c6KxrX"
      }
    },
    {
      "cell_type": "code",
      "source": [
        "#Merge two DataFrames on a common column.\n",
        "merged_df = pd.merge(df1, df2, on='common_column')\n"
      ],
      "metadata": {
        "id": "9J88tfA9K0u0"
      },
      "execution_count": null,
      "outputs": []
    },
    {
      "cell_type": "code",
      "source": [
        "#Perform a left join on two DataFrames\n",
        "left_joined_df = pd.merge(df1, df2, on='common_column', how='left')\n"
      ],
      "metadata": {
        "id": "jY8DtbHPK8A3"
      },
      "execution_count": null,
      "outputs": []
    },
    {
      "cell_type": "code",
      "source": [
        "#Perform an inner join on two DataFrames.\n",
        "\n",
        "inner_joined_df = pd.merge(df1, df2, on='common_column', how='inner')\n"
      ],
      "metadata": {
        "id": "oWZiyvzsLDsN"
      },
      "execution_count": null,
      "outputs": []
    },
    {
      "cell_type": "code",
      "source": [
        "#Perform a right join on two DataFrames.\n",
        "\n",
        "right_joined_df = pd.merge(df1, df2, on='common_column', how='right')"
      ],
      "metadata": {
        "id": "Pi0Gk2iGLsZ5"
      },
      "execution_count": null,
      "outputs": []
    },
    {
      "cell_type": "code",
      "source": [
        "#Perform an outer join on two DataFrames\n",
        "\n",
        "outer_joined_df = pd.merge(df1, df2, on='common_column', how='outer')\n"
      ],
      "metadata": {
        "id": "l4KWCQOFLzq6"
      },
      "execution_count": null,
      "outputs": []
    },
    {
      "cell_type": "markdown",
      "source": [
        "#Time Series Analysis"
      ],
      "metadata": {
        "id": "rZN0dFbTNpV8"
      }
    },
    {
      "cell_type": "code",
      "source": [
        "#Convert a column to datetime.\n",
        "\n",
        "df['date_column'] = pd.to_datetime(df['date_column'])"
      ],
      "metadata": {
        "id": "Rj0q3EpkNqcv"
      },
      "execution_count": null,
      "outputs": []
    },
    {
      "cell_type": "code",
      "source": [
        "#Set a column as the index.\n",
        "\n",
        "df.set_index('date_column', inplace=True)"
      ],
      "metadata": {
        "id": "Ur-y8OhqNxxh"
      },
      "execution_count": null,
      "outputs": []
    },
    {
      "cell_type": "code",
      "source": [
        "#Resample a time series to a different frequency.\n",
        "\n",
        "monthly_df = df.resample('M').sum()"
      ],
      "metadata": {
        "id": "867kM8nAN3zR"
      },
      "execution_count": null,
      "outputs": []
    },
    {
      "cell_type": "code",
      "source": [
        "#Plot a time series.\n",
        "\n",
        "import matplotlib.pyplot as plt\n",
        "df['value_column'].plot()\n",
        "plt.show()\n"
      ],
      "metadata": {
        "id": "y2j7x1VKN9A-"
      },
      "execution_count": null,
      "outputs": []
    },
    {
      "cell_type": "markdown",
      "source": [
        "#Advanced Data Manipulation"
      ],
      "metadata": {
        "id": "DliFHyLAO5oN"
      }
    },
    {
      "cell_type": "code",
      "source": [
        "#Pivot a DataFrame\n",
        "\n",
        "pivot_df = df.pivot(index='date_column', columns='category_column', values='value_column')"
      ],
      "metadata": {
        "id": "knH3mrU1O7IS"
      },
      "execution_count": null,
      "outputs": []
    },
    {
      "cell_type": "code",
      "source": [
        "#Melt a DataFrame\n",
        "\n",
        "melted_df = df.melt(id_vars=['id_column'], value_vars=['value_column1', 'value_column2'])\n"
      ],
      "metadata": {
        "id": "jGImEw46PUmk"
      },
      "execution_count": null,
      "outputs": []
    },
    {
      "cell_type": "code",
      "source": [
        "#Create a new column based on conditions\n",
        "\n",
        "df['new_column'] = df.apply(lambda row: 'value' if row['column'] > 0 else 'other_value', axis=1)\n"
      ],
      "metadata": {
        "id": "JBbYqKcYPlhR"
      },
      "execution_count": null,
      "outputs": []
    },
    {
      "cell_type": "code",
      "source": [
        "#Apply a function to a column.\n",
        "\n",
        "df['new_column'] = df['column'].apply(lambda x: x*2)"
      ],
      "metadata": {
        "id": "NfK41xwwPtWz"
      },
      "execution_count": null,
      "outputs": []
    },
    {
      "cell_type": "code",
      "source": [
        "#Apply a function to each row\n",
        "\n",
        "df['new_column'] = df.apply(lambda row: row['column1'] + row['column2'], axis=1)\n"
      ],
      "metadata": {
        "id": "uFYaURw4QB8M"
      },
      "execution_count": null,
      "outputs": []
    },
    {
      "cell_type": "markdown",
      "source": [
        "#Visualization"
      ],
      "metadata": {
        "id": "13wgbRLqQLf1"
      }
    },
    {
      "cell_type": "code",
      "source": [
        "#Plot a histogram of a column\n",
        "\n",
        "df['column'].plot(kind='hist')\n",
        "plt.show()"
      ],
      "metadata": {
        "id": "ePcm0HppQNvc"
      },
      "execution_count": null,
      "outputs": []
    },
    {
      "cell_type": "code",
      "source": [
        "#Plot a bar chart of categorical data.\n",
        "\n",
        "df['category_column'].value_counts().plot(kind='bar')\n",
        "plt.show()\n"
      ],
      "metadata": {
        "id": "djWTQbDLQWRa"
      },
      "execution_count": null,
      "outputs": []
    },
    {
      "cell_type": "code",
      "source": [
        "#Plot a scatter plot of two columns.\n",
        "\n",
        "df.plot(kind='scatter', x='column1', y='column2')\n",
        "plt.show()"
      ],
      "metadata": {
        "id": "Kb6A4kh3Qmg4"
      },
      "execution_count": null,
      "outputs": []
    },
    {
      "cell_type": "code",
      "source": [
        "#Plot a box plot of a column.\n",
        "\n",
        "df['column'].plot(kind='box')\n",
        "plt.show()"
      ],
      "metadata": {
        "id": "_1ZVyQfSQyK4"
      },
      "execution_count": null,
      "outputs": []
    },
    {
      "cell_type": "code",
      "source": [
        "#Plot a correlation matrix.\n",
        "\n",
        "import seaborn as sns\n",
        "corr_matrix = df.corr()\n",
        "sns.heatmap(corr_matrix, annot=True)\n",
        "plt.show()\n"
      ],
      "metadata": {
        "id": "JHjJh0uOREGW"
      },
      "execution_count": null,
      "outputs": []
    },
    {
      "cell_type": "markdown",
      "source": [
        "#Data Analysis"
      ],
      "metadata": {
        "id": "fhV6IX2bRUGH"
      }
    },
    {
      "cell_type": "code",
      "source": [
        "#Calculate correlation between two columns\n",
        "\n",
        "correlation = df['column1'].corr(df['column2'])\n",
        "print(correlation)\n"
      ],
      "metadata": {
        "id": "ydciiNZ9RP59"
      },
      "execution_count": null,
      "outputs": []
    },
    {
      "cell_type": "code",
      "source": [
        "#Find the unique values in a column.\n",
        "\n",
        "unique_values = df['column'].unique()\n",
        "print(unique_values)\n"
      ],
      "metadata": {
        "id": "svi-6dYjRh3z"
      },
      "execution_count": null,
      "outputs": []
    },
    {
      "cell_type": "code",
      "source": [
        "#Find the value counts of a column.\n",
        "\n",
        "value_counts = df['column'].value_counts()\n",
        "print(value_counts)"
      ],
      "metadata": {
        "id": "kY56NCh0RnjC"
      },
      "execution_count": null,
      "outputs": []
    },
    {
      "cell_type": "code",
      "source": [
        "#Calculate descriptive statistics of a column\n",
        "\n",
        "descriptive_stats = df['column'].describe()\n",
        "print(descriptive_stats)\n"
      ],
      "metadata": {
        "id": "cSBMz2IWTNoK"
      },
      "execution_count": null,
      "outputs": []
    },
    {
      "cell_type": "code",
      "source": [
        "#Identify and remove duplicate rows\n",
        "df.drop_duplicates(inplace=True)"
      ],
      "metadata": {
        "id": "J7-DiGRSTUoo"
      },
      "execution_count": null,
      "outputs": []
    },
    {
      "cell_type": "markdown",
      "source": [
        "#Data Export\n"
      ],
      "metadata": {
        "id": "YLx5XIv_Tf2Y"
      }
    },
    {
      "cell_type": "code",
      "source": [
        "#Export a DataFrame to a CSV file.\n",
        "\n",
        "df.to_csv('output.csv', index=False)"
      ],
      "metadata": {
        "id": "2UOx8KARTcsu"
      },
      "execution_count": null,
      "outputs": []
    },
    {
      "cell_type": "code",
      "source": [
        "#Export a DataFrame to an Excel file\n",
        "\n",
        "df.to_excel('output.xlsx', index=False)"
      ],
      "metadata": {
        "id": "Uh_xcQvqTug4"
      },
      "execution_count": null,
      "outputs": []
    },
    {
      "cell_type": "code",
      "source": [
        "#Save a DataFrame to a SQL database.\n",
        "\n",
        "from sqlalchemy import create_engine\n",
        "engine = create_engine('sqlite:///database.db')\n",
        "df.to_sql('table_name', con=engine, if_exists='replace', index=False)"
      ],
      "metadata": {
        "id": "ogUvSqUtT3ey"
      },
      "execution_count": null,
      "outputs": []
    },
    {
      "cell_type": "code",
      "source": [
        "#Export a subset of DataFrame columns to a CSV file.\n",
        "\n",
        "df[['column1', 'column2']].to_csv('output.csv', index=False)"
      ],
      "metadata": {
        "id": "30Pjpb_UT_zM"
      },
      "execution_count": null,
      "outputs": []
    },
    {
      "cell_type": "code",
      "source": [
        "#Save a DataFrame to a JSON file\n",
        "\n",
        "df.to_json('output.json')"
      ],
      "metadata": {
        "id": "NNWka8v1UOqs"
      },
      "execution_count": null,
      "outputs": []
    },
    {
      "cell_type": "markdown",
      "source": [
        "#string method"
      ],
      "metadata": {
        "id": "EH1TO3qBW9op"
      }
    },
    {
      "cell_type": "code",
      "source": [
        "#Convert a column to lowercase.\n",
        "\n",
        "df['column_name'] = df['column_name'].str.lower()"
      ],
      "metadata": {
        "id": "bbYCxZdYVP6l"
      },
      "execution_count": null,
      "outputs": []
    },
    {
      "cell_type": "code",
      "source": [
        "#Convert a column to uppercase.\n",
        "\n",
        "df['column_name'] = df['column_name'].str.upper()"
      ],
      "metadata": {
        "id": "-d7KPZULVTqd"
      },
      "execution_count": null,
      "outputs": []
    },
    {
      "cell_type": "code",
      "source": [
        "#Capitalize the first letter of each string in a column\n",
        "\n",
        "df['column_name'] = df['column_name'].str.capitalize()"
      ],
      "metadata": {
        "id": "kEG8zy2qVd12"
      },
      "execution_count": null,
      "outputs": []
    },
    {
      "cell_type": "code",
      "source": [
        "#Strip leading and trailing whitespaces from a column\n",
        "\n",
        "df['column_name'] = df['column_name'].str.strip()"
      ],
      "metadata": {
        "id": "zOw2GirIVu0v"
      },
      "execution_count": null,
      "outputs": []
    },
    {
      "cell_type": "code",
      "source": [
        "#Replace a substring within each string in a column.\n",
        "\n",
        "df['column_name'] = df['column_name'].str.replace('old_substring', 'new_substring')"
      ],
      "metadata": {
        "id": "w5_cRReoV01n"
      },
      "execution_count": null,
      "outputs": []
    },
    {
      "cell_type": "code",
      "source": [
        "#Check if a column contains a substring.\n",
        "\n",
        "df['contains_substring'] = df['column_name'].str.contains('substring')"
      ],
      "metadata": {
        "id": "raSN4LyLWRXO"
      },
      "execution_count": null,
      "outputs": []
    },
    {
      "cell_type": "code",
      "source": [
        "#Find the length of each string in a column.\n",
        "\n",
        "df['length'] = df['column_name'].str.len()"
      ],
      "metadata": {
        "id": "88JNanOfWZAH"
      },
      "execution_count": null,
      "outputs": []
    },
    {
      "cell_type": "code",
      "source": [
        "#Extract a substring from each string in a column\n",
        "\n",
        "df['substring'] = df['column_name'].str[0:5]  # Extracts the first 5 characters\n"
      ],
      "metadata": {
        "id": "X7xhm0l_Whld"
      },
      "execution_count": null,
      "outputs": []
    },
    {
      "cell_type": "code",
      "source": [
        "#Split strings in a column into multiple columns.\n",
        "\n",
        "df[['new_col1', 'new_col2']] = df['column_name'].str.split('delimiter', expand=True)\n"
      ],
      "metadata": {
        "id": "93QDNjN7WonU"
      },
      "execution_count": null,
      "outputs": []
    },
    {
      "cell_type": "code",
      "source": [
        "#Concatenate two string columns\n",
        "\n",
        "df['new_column'] = df['column1'] + df['column2']"
      ],
      "metadata": {
        "id": "22WHYkB4Wuww"
      },
      "execution_count": null,
      "outputs": []
    }
  ]
}